{
 "cells": [
  {
   "cell_type": "code",
   "execution_count": 21,
   "metadata": {
    "collapsed": true
   },
   "outputs": [],
   "source": [
    "import nipype.pipeline.engine as pe\n",
    "\n",
    "import nipype.interfaces.fsl as fsl\n",
    "import nipype.interfaces.io as nio"
   ]
  },
  {
   "cell_type": "code",
   "execution_count": 22,
   "metadata": {
    "collapsed": true
   },
   "outputs": [],
   "source": [
    "import glob"
   ]
  },
  {
   "cell_type": "code",
   "execution_count": 23,
   "metadata": {
    "collapsed": false
   },
   "outputs": [],
   "source": [
    "subject_ids = [fn.split('/')[-1][:] for fn in glob.glob('/home/gdholla1/data/daphne/clean/*')]"
   ]
  },
  {
   "cell_type": "code",
   "execution_count": null,
   "metadata": {
    "collapsed": true
   },
   "outputs": [],
   "source": []
  },
  {
   "cell_type": "code",
   "execution_count": 24,
   "metadata": {
    "collapsed": true
   },
   "outputs": [],
   "source": [
    "def extract_weighted_timeseries(data_fn, mask_fn):\n",
    "    import nibabel as nb\n",
    "    import numpy as np\n",
    "    from nipype.utils.filemanip import split_filename\n",
    "    import os\n",
    "    \n",
    "    data_image = nb.load(data_fn)\n",
    "    mask_image = nb.load(mask_fn)\n",
    "    \n",
    "    data = data_image.get_data()\n",
    "    mask = mask_image.get_data()\n",
    " \n",
    "    \n",
    "    ts = (data[mask > 0] * mask[mask > 0][:, np.newaxis]  / mask.sum()).sum(0)\n",
    "    \n",
    "    _, fn, _ = split_filename(data_fn)\n",
    "    new_fn = os.path.abspath('%s_weighted.txt' % fn)\n",
    "    \n",
    "    np.savetxt(new_fn, ts)\n",
    "    \n",
    "    return new_fn\n",
    "    "
   ]
  },
  {
   "cell_type": "code",
   "execution_count": 25,
   "metadata": {
    "collapsed": false
   },
   "outputs": [],
   "source": [
    "fn = extract_weighted_timeseries('/home/gdholla1/data/daphne/preprocess_phys/motion_regressors_filtered_files/_subject_id_S00/_fwhm_0.0/_addmean0/run1_maths_maths_maths_dtype_mcf_mask_gms_tempfilt_regfilt_maths.nii.gz',\n",
    "                            '/home/gdholla1/data/daphne/registration/conjunct_masks/_mask_LC_L_subject_id_S00/_interp_trilinear/LC_L_conjunct_flirt.nii.gz')"
   ]
  },
  {
   "cell_type": "code",
   "execution_count": 26,
   "metadata": {
    "collapsed": true
   },
   "outputs": [],
   "source": [
    "import nipype.interfaces.utility as util"
   ]
  },
  {
   "cell_type": "code",
   "execution_count": 27,
   "metadata": {
    "collapsed": false
   },
   "outputs": [
    {
     "data": {
      "text/plain": [
       "<networkx.classes.digraph.DiGraph at 0x3a1aa90>"
      ]
     },
     "execution_count": 27,
     "metadata": {},
     "output_type": "execute_result"
    }
   ],
   "source": [
    "templates = {'slab2tse_mat':'/home/gdholla1/data/daphne/registration/slab2tse/_subject_id_{subject_id}/run1_dtype_mcf_mask_gms_mean_flirt_whole_brain_epi_flirt_tse_flirt_inv.mat',\n",
    "             'conjunct_mask':'/home/gdholla1/data/daphne/masks/tse_space/{subject_id}/{mask}_conjunct.nii.gz',\n",
    "             'disjunct_mask':'/home/gdholla1/data/daphne/masks/tse_space/{subject_id}/{mask}_disjunct.nii.gz',\n",
    "              'tsnr':'/home/gdholla1/data/daphne/preprocessed/tsnr_file/_subject_id_{subject_id}/_fwhm_0.0/_tsnr*/run*_dtype_mcf_mask_gms_tempfilt_maths_tsnr.nii.gz',\n",
    "             'mean_epi':'/home/gdholla1/data/daphne/preprocessed/feat_preprocess/mean/_subject_id_{subject_id}/_fwhm_0.0/run1_dtype_mcf_mask_gms_mean.nii.gz',\n",
    "             'tsnr_phys':'/home/gdholla1/data/daphne/preprocess_phys/tsnr_file/_subject_id_{subject_id}/_fwhm_0.0/_tsnr*/run*_maths_maths_maths_dtype_mcf_mask_gms_tempfilt_maths_tsnr.nii.gz',\n",
    "             'epi_filtered':'/home/gdholla1/data/daphne/preprocessed/motion_regressors_filtered_files/_subject_id_{subject_id}/_fwhm_0.0/_addmean*/run*_dtype_mcf_mask_gms_tempfilt_regfilt_maths.nii.gz',\n",
    "             'epi_filtered_phys':'/home/gdholla1/data/daphne/preprocess_phys/motion_regressors_filtered_files/_subject_id_{subject_id}/_fwhm_0.0/_addmean*/run*_maths_maths_maths_dtype_mcf_mask_gms_tempfilt_regfilt_maths.nii.gz'}\n",
    "\n",
    "workflow = pe.Workflow(name='transform_masks', base_dir='/home/gdholla1/workflow_folders/')\n",
    "\n",
    "selector = pe.Node(nio.SelectFiles(templates), name='selector')\n",
    "\n",
    "selector.iterables = [('subject_id', subject_ids), ('mask', ['LC_L', 'LC_R'])]\n",
    "\n",
    "inverter = pe.Node(fsl.ConvertXFM(), name='inverter')\n",
    "inverter.inputs.invert_xfm = True\n",
    "\n",
    "workflow.connect(selector, 'slab2tse_mat', inverter, 'in_file')\n",
    "\n",
    "\n",
    "# TRANSFORM DISJUNCT\n",
    "transform_disjunct = pe.Node(fsl.ApplyXfm(), name='transform_disjunct')\n",
    "transform_disjunct.iterables = [('interp', ['trilinear', 'nearestneighbour'])]\n",
    "\n",
    "workflow.connect(selector, 'disjunct_mask', transform_disjunct, 'in_file')\n",
    "workflow.connect(inverter, 'out_file', transform_disjunct, 'in_matrix_file')\n",
    "workflow.connect(selector, 'mean_epi', transform_disjunct, 'reference')\n",
    "\n",
    "# TRANSFORM CONJUNCT\n",
    "transform_conjunct = transform_disjunct.clone('transform_conjunct')\n",
    "transform_conjunct.iterables = [('interp', ['trilinear', 'nearestneighbour'])]\n",
    "\n",
    "workflow.connect(selector, 'conjunct_mask', transform_conjunct, 'in_file')\n",
    "workflow.connect(inverter, 'out_file', transform_conjunct, 'in_matrix_file')\n",
    "workflow.connect(selector, 'mean_epi', transform_conjunct, 'reference')\n",
    "\n",
    "# EXTRACT TSNR DISJUNCT\n",
    "tsnr_disjunct = pe.MapNode(fsl.ImageMeants(), iterfield=['in_file'], name='tsnr_disjunct')\n",
    "workflow.connect(selector, 'tsnr', tsnr_disjunct, 'in_file')\n",
    "workflow.connect(transform_disjunct, 'out_file', tsnr_disjunct, 'mask')\n",
    "\n",
    "# EXTRACT TSNR CONJUNCT\n",
    "tsnr_conjunct = pe.MapNode(fsl.ImageMeants(), iterfield=['in_file'], name='tsnr_conjunct')\n",
    "workflow.connect(selector, 'tsnr', tsnr_conjunct, 'in_file')\n",
    "workflow.connect(transform_conjunct, 'out_file', tsnr_conjunct, 'mask')\n",
    "\n",
    "# EXTRACT TSNR_PHYS DISJUNCT\n",
    "tsnr_phys_disjunct = pe.MapNode(fsl.ImageMeants(), iterfield=['in_file'], name='tsnr_phys_disjunct')\n",
    "workflow.connect(selector, 'tsnr_phys', tsnr_phys_disjunct, 'in_file')\n",
    "workflow.connect(transform_disjunct, 'out_file', tsnr_phys_disjunct, 'mask')\n",
    "\n",
    "# EXTRACT TSNR_PHYS CONJUNCT\n",
    "tsnr_phys_conjunct = pe.MapNode(fsl.ImageMeants(), iterfield=['in_file'], name='tsnr_phys_conjunct')\n",
    "workflow.connect(selector, 'tsnr_phys', tsnr_phys_conjunct, 'in_file')\n",
    "workflow.connect(transform_disjunct, 'out_file', tsnr_phys_conjunct, 'mask')\n",
    "\n",
    "\n",
    "# EXTRACT SIGNAL DISJUNCT\n",
    "extract_signal_disjunct = pe.MapNode(fsl.ImageMeants(), iterfield=['in_file'], name='extract_signal_disjunct')\n",
    "workflow.connect(selector, 'epi_filtered', extract_signal_disjunct, 'in_file')\n",
    "workflow.connect(transform_disjunct, 'out_file', extract_signal_disjunct, 'mask')\n",
    "\n",
    "# EXTRACT SIGNAL CONJUNCT\n",
    "extract_signal_conjunct = pe.MapNode(fsl.ImageMeants(), iterfield=['in_file'], name='extract_signal_conjunct')\n",
    "workflow.connect(selector, 'epi_filtered', extract_signal_conjunct, 'in_file')\n",
    "workflow.connect(transform_conjunct, 'out_file', extract_signal_conjunct, 'mask')\n",
    "\n",
    "# EXTRACT SIGNAL_PHYS DISJUNCT\n",
    "extract_signal_phys_disjunct = pe.MapNode(fsl.ImageMeants(), iterfield=['in_file'], name='extract_signal_phys_disjunct')\n",
    "workflow.connect(selector, 'epi_filtered_phys', extract_signal_phys_disjunct, 'in_file')\n",
    "workflow.connect(transform_disjunct, 'out_file', extract_signal_phys_disjunct, 'mask')\n",
    "\n",
    "# EXTRACT SIGNAL_PHYS CONJUNCT\n",
    "extract_signal_phys_conjunct = pe.MapNode(fsl.ImageMeants(), iterfield=['in_file'], name='extract_signal_phys_conjunct')\n",
    "workflow.connect(selector, 'epi_filtered_phys', extract_signal_phys_conjunct, 'in_file')\n",
    "workflow.connect(transform_conjunct, 'out_file', extract_signal_phys_conjunct, 'mask')\n",
    "\n",
    "# EXTRACT WEIGHTED SIGNAL PHYS CONJUNCT\n",
    "extract_weighted_phys = pe.MapNode(util.Function(function=extract_weighted_timeseries,\n",
    "                                                 input_names=['data_fn', 'mask_fn'],\n",
    "                                                 output_names=['weighted_timeseries']),\n",
    "                                   iterfield=['data_fn'],\n",
    "                                   name='extract_weighted_phys')\n",
    "workflow.connect(selector, 'epi_filtered_phys', extract_weighted_phys, 'data_fn')\n",
    "workflow.connect(transform_conjunct, 'out_file', extract_weighted_phys, 'mask_fn')\n",
    "\n",
    "ds = pe.Node(nio.DataSink(base_directory='/home/gdholla1/data/daphne/registration/'), name='datasink')\n",
    "\n",
    "workflow.connect(transform_disjunct, 'out_file', ds, 'disjunct_masks')\n",
    "workflow.connect(transform_conjunct, 'out_file', ds, 'conjunct_masks')\n",
    "workflow.connect(tsnr_disjunct, 'out_file', ds, 'disjunct_tsnr_values.unfiltered')\n",
    "workflow.connect(tsnr_conjunct, 'out_file', ds, 'conjunct_tsnr_values.unfiltered')\n",
    "\n",
    "workflow.connect(tsnr_phys_disjunct, 'out_file', ds, 'disjunct_tsnr_values.phys_filtered')\n",
    "workflow.connect(tsnr_phys_conjunct, 'out_file', ds, 'conjunct_tsnr_values.phys_filtered')\n",
    "\n",
    "workflow.connect(extract_signal_disjunct, 'out_file', ds, 'extracted_signal_disjunct.unfiltered')\n",
    "workflow.connect(extract_signal_conjunct, 'out_file', ds, 'extracted_signal_conjunct.unfiltered')\n",
    "\n",
    "workflow.connect(extract_signal_phys_disjunct, 'out_file', ds, 'extracted_signal_disjunct.phys_filtered')\n",
    "workflow.connect(extract_signal_phys_conjunct, 'out_file', ds, 'extracted_signal_conjunct.phys_filtered')\n",
    "\n",
    "workflow.connect(extract_weighted_phys, 'weighted_timeseries', ds, 'extracted_signal_weighted')\n",
    "\n",
    "workflow.run()"
   ]
  },
  {
   "cell_type": "code",
   "execution_count": null,
   "metadata": {
    "collapsed": false
   },
   "outputs": [],
   "source": [
    "/home/gdholla1/data/daphne/registration/extracted_signal_weighted/_mask_LC_L_subject_id_S00/_interp_trilinear/_extract_weighted_phys0/run1_maths_maths_maths_dtype_mcf_mask_gms_tempfilt_regfilt_maths_weighted.txt"
   ]
  },
  {
   "cell_type": "code",
   "execution_count": null,
   "metadata": {
    "collapsed": true
   },
   "outputs": [],
   "source": []
  }
 ],
 "metadata": {
  "kernelspec": {
   "display_name": "Python 2",
   "language": "python",
   "name": "python2"
  },
  "language_info": {
   "codemirror_mode": {
    "name": "ipython",
    "version": 2
   },
   "file_extension": ".py",
   "mimetype": "text/x-python",
   "name": "python",
   "nbconvert_exporter": "python",
   "pygments_lexer": "ipython2",
   "version": "2.7.3"
  }
 },
 "nbformat": 4,
 "nbformat_minor": 0
}
