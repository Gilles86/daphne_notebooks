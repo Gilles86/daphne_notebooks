{
 "cells": [
  {
   "cell_type": "code",
   "execution_count": 8,
   "metadata": {
    "collapsed": true
   },
   "outputs": [],
   "source": [
    "import nipype.pipeline.engine as pe\n",
    "import nipype.interfaces.fsl as fsl\n",
    "import nipype.interfaces.io as nio\n",
    "import nipype.interfaces.ants as ants\n",
    "import nipype.interfaces.utility as util\n",
    "from nipype.interfaces.c3 import C3dAffineTool\n"
   ]
  },
  {
   "cell_type": "code",
   "execution_count": 9,
   "metadata": {
    "collapsed": true
   },
   "outputs": [],
   "source": [
    "import glob"
   ]
  },
  {
   "cell_type": "code",
   "execution_count": 10,
   "metadata": {
    "collapsed": false
   },
   "outputs": [
    {
     "data": {
      "text/plain": [
       "<networkx.classes.digraph.DiGraph at 0x896da10>"
      ]
     },
     "execution_count": 10,
     "metadata": {},
     "output_type": "execute_result"
    }
   ],
   "source": [
    "templates = {'mean_epi':'/home/gdholla1/data/daphne/preprocessed/feat_preprocess/mean/_subject_id_{subject_id}/_fwhm_0.0/run1_dtype_mcf_mask_gms_mean.nii.gz',\n",
    "              't1_weighted':'/home/gdholla1/data/daphne/clean/{subject_id}/t1.nii.gz',\n",
    "             'epi2t1_weighted':'/home/gdholla1/data/daphne/registration/slab2t1_weighted/_subject_id_{subject_id}/run1_dtype_mcf_mask_gms_mean_flirt_whole_brain_epi_flirt.mat',\n",
    "             't1_weighted2mni':'/home/gdholla1/data/daphne/registration/t1_weighted2mni/_subject_id_{subject_id}/transformComposite.h5',}\n",
    "\n",
    "workflow = pe.Workflow(name='register2mni', base_dir='/home/gdholla1/workflow_folders/')\n",
    "\n",
    "subject_ids = [fn.split('/')[-1] for fn in glob.glob('/home/gdholla1/data/daphne/clean/*')]\n",
    "\n",
    "identity = pe.Node(util.IdentityInterface(fields=['subject_id']), name='identity')\n",
    "identity.iterables = [('subject_id', subject_ids)]\n",
    "             \n",
    "selector = pe.Node(nio.SelectFiles(templates), name='selector')\n",
    "\n",
    "\n",
    "# selector.iterables = [('subject_id', ['S02'])]\n",
    "             \n",
    "workflow.connect(identity, 'subject_id', selector, 'subject_id')\n",
    "\n",
    "\n",
    "convert2itk = pe.Node(C3dAffineTool(),\n",
    "                  name='convert2itk')\n",
    "convert2itk.inputs.fsl2ras = True\n",
    "convert2itk.inputs.itk_transform = True\n",
    "\n",
    "workflow.connect(selector, 'epi2t1_weighted', convert2itk, 'transform_file')\n",
    "workflow.connect(selector, 'mean_epi', convert2itk, 'source_file')\n",
    "workflow.connect(selector, 't1_weighted', convert2itk, 'reference_file')\n",
    "\n",
    "transform_merger = pe.Node(util.Merge(2), name='transform_merger')\n",
    "workflow.connect(selector, 't1_weighted2mni', transform_merger, 'in1')\n",
    "workflow.connect(convert2itk, 'itk_transform', transform_merger, 'in2')\n",
    "\n",
    "\n",
    "mean_epi2mni = pe.Node(ants.ApplyTransforms(), name='reference_file')\n",
    "mean_epi2mni.inputs.reference_image = '/usr/share/fsl/data/standard/MNI152_T1_2mm_brain.nii.gz'\n",
    "workflow.connect(selector, 'mean_epi', mean_epi2mni, 'input_image')\n",
    "workflow.connect(transform_merger, 'out', mean_epi2mni, 'transforms')\n",
    "             \n",
    "level2_templates = {'cope':'/home/gdholla1/data/daphne/fit_glm2/copes/_subject_id_{subject_id}/_fwhm_5.0/_shift_0.0/_modelestimate0/cope{contrast}.nii.gz',\n",
    "                    'varcope':'/home/gdholla1/data/daphne/fit_glm2/varcopes/_subject_id_{subject_id}/_fwhm_5.0/_shift_0.0/_modelestimate0/varcope{contrast}.nii.gz',}\n",
    "\n",
    "level2_selector = pe.Node(nio.SelectFiles(level2_templates), name='level2_selector')\n",
    "level2_selector.iterables = [('contrast', range(1, 8))]\n",
    "\n",
    "workflow.connect(identity, 'subject_id', level2_selector, 'subject_id')\n",
    "\n",
    "\n",
    "cope_transformer = mean_epi2mni.clone('cope_transformer')\n",
    "cope_transformer.inputs.reference_image = '/usr/share/fsl/data/standard/MNI152_T1_2mm_brain.nii.gz'\n",
    "workflow.connect(level2_selector, 'cope', cope_transformer, 'input_image')\n",
    "workflow.connect(transform_merger, 'out', cope_transformer, 'transforms')\n",
    "\n",
    "varcope_transformer = mean_epi2mni.clone('varcope_transformer')\n",
    "cope_transformer.inputs.reference_image = '/usr/share/fsl/data/standard/MNI152_T1_2mm_brain.nii.gz'\n",
    "workflow.connect(level2_selector, 'varcope', varcope_transformer, 'input_image')\n",
    "workflow.connect(transform_merger, 'out', varcope_transformer, 'transforms')\n",
    "\n",
    "ds = pe.Node(nio.DataSink(), name='datasink')\n",
    "ds.inputs.base_directory = '/home/gdholla1/data/daphne/level3_2'\n",
    "\n",
    "workflow.connect(mean_epi2mni, 'output_image', ds, 'mean_epi2mni')\n",
    "workflow.connect(cope_transformer, 'output_image', ds, 'cope2mni')\n",
    "workflow.connect(varcope_transformer, 'output_image', ds, 'varcope2mni')\n",
    "\n",
    "\n",
    "workflow.run()"
   ]
  },
  {
   "cell_type": "code",
   "execution_count": 11,
   "metadata": {
    "collapsed": true
   },
   "outputs": [],
   "source": [
    "import nibabel as nb"
   ]
  },
  {
   "cell_type": "code",
   "execution_count": 12,
   "metadata": {
    "collapsed": false
   },
   "outputs": [
    {
     "data": {
      "text/plain": [
       "12"
      ]
     },
     "execution_count": 12,
     "metadata": {},
     "output_type": "execute_result"
    }
   ],
   "source": [
    "fns = glob.glob('/home/gdholla1/data/daphne/level3/mean_epi2mni/_subject_id_*/run1_dtype_mcf_mask_gms_mean_trans.nii.gz')\n",
    "len(fns)"
   ]
  },
  {
   "cell_type": "code",
   "execution_count": 4,
   "metadata": {
    "collapsed": false
   },
   "outputs": [
    {
     "ename": "NameError",
     "evalue": "name 'fns' is not defined",
     "output_type": "error",
     "traceback": [
      "\u001b[1;31m---------------------------------------------------------------------------\u001b[0m",
      "\u001b[1;31mNameError\u001b[0m                                 Traceback (most recent call last)",
      "\u001b[1;32m<ipython-input-4-cef6aee3b5f0>\u001b[0m in \u001b[0;36m<module>\u001b[1;34m()\u001b[0m\n\u001b[1;32m----> 1\u001b[1;33m \u001b[0mmeans\u001b[0m \u001b[1;33m=\u001b[0m \u001b[0mnp\u001b[0m\u001b[1;33m.\u001b[0m\u001b[0marray\u001b[0m\u001b[1;33m(\u001b[0m\u001b[1;33m[\u001b[0m\u001b[0mnb\u001b[0m\u001b[1;33m.\u001b[0m\u001b[0mload\u001b[0m\u001b[1;33m(\u001b[0m\u001b[0mfn\u001b[0m\u001b[1;33m)\u001b[0m\u001b[1;33m.\u001b[0m\u001b[0mget_data\u001b[0m\u001b[1;33m(\u001b[0m\u001b[1;33m)\u001b[0m \u001b[1;32mfor\u001b[0m \u001b[0mfn\u001b[0m \u001b[1;32min\u001b[0m \u001b[0mfns\u001b[0m\u001b[1;33m]\u001b[0m\u001b[1;33m)\u001b[0m\u001b[1;33m\u001b[0m\u001b[0m\n\u001b[0m\u001b[0;32m      2\u001b[0m \u001b[1;33m\u001b[0m\u001b[0m\n\u001b[0;32m      3\u001b[0m \u001b[0mmean_of_means\u001b[0m \u001b[1;33m=\u001b[0m \u001b[0mmeans\u001b[0m\u001b[1;33m.\u001b[0m\u001b[0mmean\u001b[0m\u001b[1;33m(\u001b[0m\u001b[1;36m0\u001b[0m\u001b[1;33m)\u001b[0m\u001b[1;33m\u001b[0m\u001b[0m\n\u001b[0;32m      4\u001b[0m \u001b[0mnb\u001b[0m\u001b[1;33m.\u001b[0m\u001b[0msave\u001b[0m\u001b[1;33m(\u001b[0m\u001b[0mnb\u001b[0m\u001b[1;33m.\u001b[0m\u001b[0mNifti1Image\u001b[0m\u001b[1;33m(\u001b[0m\u001b[0mmean_of_means\u001b[0m\u001b[1;33m,\u001b[0m \u001b[0mnb\u001b[0m\u001b[1;33m.\u001b[0m\u001b[0mload\u001b[0m\u001b[1;33m(\u001b[0m\u001b[0mfns\u001b[0m\u001b[1;33m[\u001b[0m\u001b[1;36m0\u001b[0m\u001b[1;33m]\u001b[0m\u001b[1;33m)\u001b[0m\u001b[1;33m.\u001b[0m\u001b[0mget_affine\u001b[0m\u001b[1;33m(\u001b[0m\u001b[1;33m)\u001b[0m\u001b[1;33m)\u001b[0m\u001b[1;33m,\u001b[0m \u001b[1;34m'/home/gdholla1/data/daphne/level3/mean_of_means.nii.gz'\u001b[0m\u001b[1;33m)\u001b[0m\u001b[1;33m\u001b[0m\u001b[0m\n\u001b[0;32m      5\u001b[0m \u001b[1;33m\u001b[0m\u001b[0m\n",
      "\u001b[1;31mNameError\u001b[0m: name 'fns' is not defined"
     ]
    }
   ],
   "source": [
    "means = np.array([nb.load(fn).get_data() for fn in fns])\n",
    "\n",
    "mean_of_means = means.mean(0)\n",
    "nb.save(nb.Nifti1Image(mean_of_means, nb.load(fns[0]).get_affine()), '/home/gdholla1/data/daphne/level3/mean_of_means.nii.gz')\n",
    "\n",
    "mask = ((means > 0).sum(0) == 12).astype(int)\n",
    "nb.save(nb.Nifti1Image(mask, nb.load(fns[0]).get_affine()), '/home/gdholla1/data/daphne/level3/mask.nii.gz')\n"
   ]
  },
  {
   "cell_type": "markdown",
   "metadata": {},
   "source": [
    "# Level 3 analysis"
   ]
  },
  {
   "cell_type": "code",
   "execution_count": 13,
   "metadata": {
    "collapsed": true
   },
   "outputs": [],
   "source": [
    "def get_dofvolumes(dof_files, cope_files):\n",
    "    import os\n",
    "    import nibabel as nb\n",
    "    import numpy as np\n",
    "    print cope_files\n",
    "    img = nb.load(cope_files)\n",
    "\n",
    "    out_data = np.zeros(img.shape)\n",
    "    out_data[:] = np.loadtxt(dof_files)\n",
    "\n",
    "    filename = os.path.join(os.getcwd(), 'dof_file.nii.gz')\n",
    "    newimg = nb.Nifti1Image(out_data, None, img.header)\n",
    "    newimg.to_filename(filename)\n",
    "    return filename\n",
    "\n",
    "gendof = pe.MapNode(util.Function(input_names=['dof_files', 'cope_files'],\n",
    "                               output_names=['dof_volume'],\n",
    "                               function=get_dofvolumes),\n",
    "                 iterfield=['dof_files', 'cope_files'],\n",
    "                 name='gendofvolume')"
   ]
  },
  {
   "cell_type": "code",
   "execution_count": 14,
   "metadata": {
    "collapsed": true
   },
   "outputs": [],
   "source": [
    "templates = {'cope':'/home/gdholla1/data/daphne/level3_2/cope2mni/_subject_id_*/_contrast_{contrast}/cope{contrast}_trans.nii.gz',\n",
    "             'varcope':'/home/gdholla1/data/daphne/level3_2/varcope2mni/_subject_id_*/_contrast_{contrast}/varcope{contrast}_trans.nii.gz',\n",
    "             'dof':'/home/gdholla1/data/daphne/fit_glm2/dof_files/_subject_id_*/_fwhm_5.0/_shift_0.0/_modelestimate0/dof'}\n",
    "\n",
    "workflow = pe.Workflow(name='level3_daphne', base_dir='/home/gdholla1/workflow_folders/')\n",
    "\n",
    "            \n",
    "selector = pe.Node(nio.SelectFiles(templates), name='selector')\n",
    "selector.iterables = [('contrast', range(1, 8))]\n",
    "\n",
    "from gilles_workflows import create_random_effects_workflow"
   ]
  },
  {
   "cell_type": "code",
   "execution_count": 15,
   "metadata": {
    "collapsed": false
   },
   "outputs": [
    {
     "name": "stdout",
     "output_type": "stream",
     "text": [
      "/home/gdholla1/data/daphne/level3_2/cope2mni/_subject_id_S00/_contrast_2/cope2_trans.nii.gz\n",
      "/home/gdholla1/data/daphne/level3_2/cope2mni/_subject_id_S01/_contrast_2/cope2_trans.nii.gz\n",
      "/home/gdholla1/data/daphne/level3_2/cope2mni/_subject_id_S02/_contrast_2/cope2_trans.nii.gz\n",
      "/home/gdholla1/data/daphne/level3_2/cope2mni/_subject_id_S03/_contrast_2/cope2_trans.nii.gz\n",
      "/home/gdholla1/data/daphne/level3_2/cope2mni/_subject_id_S04/_contrast_2/cope2_trans.nii.gz\n",
      "/home/gdholla1/data/daphne/level3_2/cope2mni/_subject_id_S06/_contrast_2/cope2_trans.nii.gz\n",
      "/home/gdholla1/data/daphne/level3_2/cope2mni/_subject_id_S07/_contrast_2/cope2_trans.nii.gz\n",
      "/home/gdholla1/data/daphne/level3_2/cope2mni/_subject_id_S08/_contrast_2/cope2_trans.nii.gz\n",
      "/home/gdholla1/data/daphne/level3_2/cope2mni/_subject_id_S09/_contrast_2/cope2_trans.nii.gz\n",
      "/home/gdholla1/data/daphne/level3_2/cope2mni/_subject_id_S11/_contrast_2/cope2_trans.nii.gz\n",
      "/home/gdholla1/data/daphne/level3_2/cope2mni/_subject_id_S13/_contrast_2/cope2_trans.nii.gz\n",
      "/home/gdholla1/data/daphne/level3_2/cope2mni/_subject_id_S16/_contrast_2/cope2_trans.nii.gz\n",
      "/home/gdholla1/data/daphne/level3_2/cope2mni/_subject_id_S00/_contrast_4/cope4_trans.nii.gz\n",
      "/home/gdholla1/data/daphne/level3_2/cope2mni/_subject_id_S01/_contrast_4/cope4_trans.nii.gz\n",
      "/home/gdholla1/data/daphne/level3_2/cope2mni/_subject_id_S02/_contrast_4/cope4_trans.nii.gz\n",
      "/home/gdholla1/data/daphne/level3_2/cope2mni/_subject_id_S03/_contrast_4/cope4_trans.nii.gz\n",
      "/home/gdholla1/data/daphne/level3_2/cope2mni/_subject_id_S04/_contrast_4/cope4_trans.nii.gz\n",
      "/home/gdholla1/data/daphne/level3_2/cope2mni/_subject_id_S06/_contrast_4/cope4_trans.nii.gz\n",
      "/home/gdholla1/data/daphne/level3_2/cope2mni/_subject_id_S07/_contrast_4/cope4_trans.nii.gz\n",
      "/home/gdholla1/data/daphne/level3_2/cope2mni/_subject_id_S08/_contrast_4/cope4_trans.nii.gz\n",
      "/home/gdholla1/data/daphne/level3_2/cope2mni/_subject_id_S09/_contrast_4/cope4_trans.nii.gz\n",
      "/home/gdholla1/data/daphne/level3_2/cope2mni/_subject_id_S11/_contrast_4/cope4_trans.nii.gz\n",
      "/home/gdholla1/data/daphne/level3_2/cope2mni/_subject_id_S13/_contrast_4/cope4_trans.nii.gz\n",
      "/home/gdholla1/data/daphne/level3_2/cope2mni/_subject_id_S16/_contrast_4/cope4_trans.nii.gz\n",
      "/home/gdholla1/data/daphne/level3_2/cope2mni/_subject_id_S00/_contrast_7/cope7_trans.nii.gz\n",
      "/home/gdholla1/data/daphne/level3_2/cope2mni/_subject_id_S01/_contrast_7/cope7_trans.nii.gz\n",
      "/home/gdholla1/data/daphne/level3_2/cope2mni/_subject_id_S02/_contrast_7/cope7_trans.nii.gz\n",
      "/home/gdholla1/data/daphne/level3_2/cope2mni/_subject_id_S03/_contrast_7/cope7_trans.nii.gz\n",
      "/home/gdholla1/data/daphne/level3_2/cope2mni/_subject_id_S04/_contrast_7/cope7_trans.nii.gz\n",
      "/home/gdholla1/data/daphne/level3_2/cope2mni/_subject_id_S06/_contrast_7/cope7_trans.nii.gz\n",
      "/home/gdholla1/data/daphne/level3_2/cope2mni/_subject_id_S07/_contrast_7/cope7_trans.nii.gz\n",
      "/home/gdholla1/data/daphne/level3_2/cope2mni/_subject_id_S08/_contrast_7/cope7_trans.nii.gz\n",
      "/home/gdholla1/data/daphne/level3_2/cope2mni/_subject_id_S09/_contrast_7/cope7_trans.nii.gz\n",
      "/home/gdholla1/data/daphne/level3_2/cope2mni/_subject_id_S11/_contrast_7/cope7_trans.nii.gz\n",
      "/home/gdholla1/data/daphne/level3_2/cope2mni/_subject_id_S13/_contrast_7/cope7_trans.nii.gz\n",
      "/home/gdholla1/data/daphne/level3_2/cope2mni/_subject_id_S16/_contrast_7/cope7_trans.nii.gz\n",
      "/home/gdholla1/data/daphne/level3_2/cope2mni/_subject_id_S00/_contrast_6/cope6_trans.nii.gz\n",
      "/home/gdholla1/data/daphne/level3_2/cope2mni/_subject_id_S01/_contrast_6/cope6_trans.nii.gz\n",
      "/home/gdholla1/data/daphne/level3_2/cope2mni/_subject_id_S02/_contrast_6/cope6_trans.nii.gz\n",
      "/home/gdholla1/data/daphne/level3_2/cope2mni/_subject_id_S03/_contrast_6/cope6_trans.nii.gz\n",
      "/home/gdholla1/data/daphne/level3_2/cope2mni/_subject_id_S04/_contrast_6/cope6_trans.nii.gz\n",
      "/home/gdholla1/data/daphne/level3_2/cope2mni/_subject_id_S06/_contrast_6/cope6_trans.nii.gz\n",
      "/home/gdholla1/data/daphne/level3_2/cope2mni/_subject_id_S07/_contrast_6/cope6_trans.nii.gz\n",
      "/home/gdholla1/data/daphne/level3_2/cope2mni/_subject_id_S08/_contrast_6/cope6_trans.nii.gz\n",
      "/home/gdholla1/data/daphne/level3_2/cope2mni/_subject_id_S09/_contrast_6/cope6_trans.nii.gz\n",
      "/home/gdholla1/data/daphne/level3_2/cope2mni/_subject_id_S11/_contrast_6/cope6_trans.nii.gz\n",
      "/home/gdholla1/data/daphne/level3_2/cope2mni/_subject_id_S13/_contrast_6/cope6_trans.nii.gz\n",
      "/home/gdholla1/data/daphne/level3_2/cope2mni/_subject_id_S16/_contrast_6/cope6_trans.nii.gz\n",
      "/home/gdholla1/data/daphne/level3_2/cope2mni/_subject_id_S00/_contrast_3/cope3_trans.nii.gz\n",
      "/home/gdholla1/data/daphne/level3_2/cope2mni/_subject_id_S01/_contrast_3/cope3_trans.nii.gz\n",
      "/home/gdholla1/data/daphne/level3_2/cope2mni/_subject_id_S02/_contrast_3/cope3_trans.nii.gz\n",
      "/home/gdholla1/data/daphne/level3_2/cope2mni/_subject_id_S03/_contrast_3/cope3_trans.nii.gz\n",
      "/home/gdholla1/data/daphne/level3_2/cope2mni/_subject_id_S04/_contrast_3/cope3_trans.nii.gz\n",
      "/home/gdholla1/data/daphne/level3_2/cope2mni/_subject_id_S06/_contrast_3/cope3_trans.nii.gz\n",
      "/home/gdholla1/data/daphne/level3_2/cope2mni/_subject_id_S07/_contrast_3/cope3_trans.nii.gz\n",
      "/home/gdholla1/data/daphne/level3_2/cope2mni/_subject_id_S08/_contrast_3/cope3_trans.nii.gz\n",
      "/home/gdholla1/data/daphne/level3_2/cope2mni/_subject_id_S09/_contrast_3/cope3_trans.nii.gz\n",
      "/home/gdholla1/data/daphne/level3_2/cope2mni/_subject_id_S11/_contrast_3/cope3_trans.nii.gz\n",
      "/home/gdholla1/data/daphne/level3_2/cope2mni/_subject_id_S13/_contrast_3/cope3_trans.nii.gz\n",
      "/home/gdholla1/data/daphne/level3_2/cope2mni/_subject_id_S16/_contrast_3/cope3_trans.nii.gz\n",
      "/home/gdholla1/data/daphne/level3_2/cope2mni/_subject_id_S00/_contrast_1/cope1_trans.nii.gz\n",
      "/home/gdholla1/data/daphne/level3_2/cope2mni/_subject_id_S01/_contrast_1/cope1_trans.nii.gz\n",
      "/home/gdholla1/data/daphne/level3_2/cope2mni/_subject_id_S02/_contrast_1/cope1_trans.nii.gz\n",
      "/home/gdholla1/data/daphne/level3_2/cope2mni/_subject_id_S03/_contrast_1/cope1_trans.nii.gz\n",
      "/home/gdholla1/data/daphne/level3_2/cope2mni/_subject_id_S04/_contrast_1/cope1_trans.nii.gz\n",
      "/home/gdholla1/data/daphne/level3_2/cope2mni/_subject_id_S06/_contrast_1/cope1_trans.nii.gz\n",
      "/home/gdholla1/data/daphne/level3_2/cope2mni/_subject_id_S07/_contrast_1/cope1_trans.nii.gz\n",
      "/home/gdholla1/data/daphne/level3_2/cope2mni/_subject_id_S08/_contrast_1/cope1_trans.nii.gz\n",
      "/home/gdholla1/data/daphne/level3_2/cope2mni/_subject_id_S09/_contrast_1/cope1_trans.nii.gz\n",
      "/home/gdholla1/data/daphne/level3_2/cope2mni/_subject_id_S11/_contrast_1/cope1_trans.nii.gz\n",
      "/home/gdholla1/data/daphne/level3_2/cope2mni/_subject_id_S13/_contrast_1/cope1_trans.nii.gz\n",
      "/home/gdholla1/data/daphne/level3_2/cope2mni/_subject_id_S16/_contrast_1/cope1_trans.nii.gz\n",
      "/home/gdholla1/data/daphne/level3_2/cope2mni/_subject_id_S00/_contrast_5/cope5_trans.nii.gz\n",
      "/home/gdholla1/data/daphne/level3_2/cope2mni/_subject_id_S01/_contrast_5/cope5_trans.nii.gz\n",
      "/home/gdholla1/data/daphne/level3_2/cope2mni/_subject_id_S02/_contrast_5/cope5_trans.nii.gz\n",
      "/home/gdholla1/data/daphne/level3_2/cope2mni/_subject_id_S03/_contrast_5/cope5_trans.nii.gz\n",
      "/home/gdholla1/data/daphne/level3_2/cope2mni/_subject_id_S04/_contrast_5/cope5_trans.nii.gz\n",
      "/home/gdholla1/data/daphne/level3_2/cope2mni/_subject_id_S06/_contrast_5/cope5_trans.nii.gz\n",
      "/home/gdholla1/data/daphne/level3_2/cope2mni/_subject_id_S07/_contrast_5/cope5_trans.nii.gz\n",
      "/home/gdholla1/data/daphne/level3_2/cope2mni/_subject_id_S08/_contrast_5/cope5_trans.nii.gz\n",
      "/home/gdholla1/data/daphne/level3_2/cope2mni/_subject_id_S09/_contrast_5/cope5_trans.nii.gz\n",
      "/home/gdholla1/data/daphne/level3_2/cope2mni/_subject_id_S11/_contrast_5/cope5_trans.nii.gz\n",
      "/home/gdholla1/data/daphne/level3_2/cope2mni/_subject_id_S13/_contrast_5/cope5_trans.nii.gz\n",
      "/home/gdholla1/data/daphne/level3_2/cope2mni/_subject_id_S16/_contrast_5/cope5_trans.nii.gz\n"
     ]
    },
    {
     "data": {
      "text/plain": [
       "<networkx.classes.digraph.DiGraph at 0x88be5d0>"
      ]
     },
     "execution_count": 15,
     "metadata": {},
     "output_type": "execute_result"
    }
   ],
   "source": [
    "workflow.connect(selector, 'cope', gendof, 'cope_files')\n",
    "workflow.connect(selector, 'dof', gendof, 'dof_files')\n",
    "\n",
    "randomfx = create_random_effects_workflow()\n",
    "\n",
    "workflow.connect(selector, 'cope', randomfx, 'inputspec.cope_files')\n",
    "workflow.connect(selector, 'varcope', randomfx, 'inputspec.varcope_files')\n",
    "workflow.connect(gendof, 'dof_volume', randomfx, 'inputspec.tdof_files')\n",
    "\n",
    "randomfx.inputs.inputspec.mask_file = '/home/gdholla1/data/daphne/level3/mask.nii.gz'\n",
    "\n",
    "ds = pe.Node(nio.DataSink(), name='datasink')\n",
    "ds.inputs.base_directory = '/home/gdholla1/data/daphne/level3_2'\n",
    "\n",
    "for key in randomfx.outputs.outputspec.get().keys():\n",
    "    workflow.connect(randomfx, 'outputspec.%s' % key, ds, key)\n",
    "\n",
    "\n",
    "workflow.run()"
   ]
  },
  {
   "cell_type": "code",
   "execution_count": 72,
   "metadata": {
    "collapsed": false
   },
   "outputs": [
    {
     "name": "stdout",
     "output_type": "stream",
     "text": [
      "txt_index_file None\n",
      "zstats None\n",
      "thresholded_z_stats None\n"
     ]
    }
   ],
   "source": [
    "\n",
    "    print key, value"
   ]
  },
  {
   "cell_type": "code",
   "execution_count": 60,
   "metadata": {
    "collapsed": false
   },
   "outputs": [
    {
     "data": {
      "text/plain": [
       "\n",
       "cope_files = <undefined>\n",
       "fdr_q = 0.05\n",
       "mask_file = <undefined>\n",
       "tdof_files = <undefined>\n",
       "varcope_files = <undefined>"
      ]
     },
     "execution_count": 60,
     "metadata": {},
     "output_type": "execute_result"
    }
   ],
   "source": [
    "randomfx.inputs.inputspec"
   ]
  },
  {
   "cell_type": "code",
   "execution_count": 59,
   "metadata": {
    "collapsed": false
   },
   "outputs": [
    {
     "data": {
      "text/plain": [
       "<networkx.classes.digraph.DiGraph at 0x7fb8990>"
      ]
     },
     "execution_count": 59,
     "metadata": {},
     "output_type": "execute_result"
    }
   ],
   "source": [
    "workflow.run()"
   ]
  },
  {
   "cell_type": "code",
   "execution_count": null,
   "metadata": {
    "collapsed": true
   },
   "outputs": [],
   "source": [
    "/home/gdholla1/data/daphne/level3/varcope2mni/_subject_id_S00/_contrast_3/varcope3_trans.nii.gz"
   ]
  },
  {
   "cell_type": "code",
   "execution_count": 4,
   "metadata": {
    "collapsed": false
   },
   "outputs": [],
   "source": [
    "transformer = ants.ApplyTransforms()"
   ]
  },
  {
   "cell_type": "code",
   "execution_count": null,
   "metadata": {
    "collapsed": true
   },
   "outputs": [],
   "source": [
    "from nipype.interfaces.c3 import C3dAffineTool"
   ]
  },
  {
   "cell_type": "code",
   "execution_count": 5,
   "metadata": {
    "collapsed": false
   },
   "outputs": [
    {
     "ename": "RuntimeError",
     "evalue": "Command:\nantsApplyTransforms --default-value 0 --input /home/gdholla1/data/daphne/preprocessed/mean_signal/_subject_id_S00/_fwhm_0.0/_tsnr0/run1_dtype_mcf_mask_gms_tempfilt_maths_tsnr_mean.nii.gz --interpolation Linear --output run1_dtype_mcf_mask_gms_tempfilt_maths_tsnr_mean_trans.nii.gz --reference-image /home/gdholla1/data/daphne/clean/S00/t1.nii.gz --transform /home/gdholla1/data/daphne/registration/slab2t1_weighted/_subject_id_S00/run1_dtype_mcf_mask_gms_mean_flirt_whole_brain_epi_flirt.mat\nStandard output:\n\nStandard error:\nSegmentation fault (core dumped)\nReturn code: 139\nInterface ApplyTransforms failed to run. ",
     "output_type": "error",
     "traceback": [
      "\u001b[1;31m---------------------------------------------------------------------------\u001b[0m",
      "\u001b[1;31mRuntimeError\u001b[0m                              Traceback (most recent call last)",
      "\u001b[1;32m<ipython-input-5-ae26e6333bb4>\u001b[0m in \u001b[0;36m<module>\u001b[1;34m()\u001b[0m\n\u001b[0;32m      3\u001b[0m \u001b[0mtransformer\u001b[0m\u001b[1;33m.\u001b[0m\u001b[0minputs\u001b[0m\u001b[1;33m.\u001b[0m\u001b[0mtransforms\u001b[0m \u001b[1;33m=\u001b[0m \u001b[1;34m'/home/gdholla1/data/daphne/registration/slab2t1_weighted/_subject_id_S00/run1_dtype_mcf_mask_gms_mean_flirt_whole_brain_epi_flirt.mat'\u001b[0m\u001b[1;33m\u001b[0m\u001b[0m\n\u001b[0;32m      4\u001b[0m \u001b[1;33m\u001b[0m\u001b[0m\n\u001b[1;32m----> 5\u001b[1;33m \u001b[0mr\u001b[0m \u001b[1;33m=\u001b[0m \u001b[0mtransformer\u001b[0m\u001b[1;33m.\u001b[0m\u001b[0mrun\u001b[0m\u001b[1;33m(\u001b[0m\u001b[1;33m)\u001b[0m\u001b[1;33m\u001b[0m\u001b[0m\n\u001b[0m",
      "\u001b[1;32m/home/gdholla1/git_projects/nipype/nipype/interfaces/base.pyc\u001b[0m in \u001b[0;36mrun\u001b[1;34m(self, **inputs)\u001b[0m\n\u001b[0;32m   1043\u001b[0m                         version=self.version)\n\u001b[0;32m   1044\u001b[0m         \u001b[1;32mtry\u001b[0m\u001b[1;33m:\u001b[0m\u001b[1;33m\u001b[0m\u001b[0m\n\u001b[1;32m-> 1045\u001b[1;33m             \u001b[0mruntime\u001b[0m \u001b[1;33m=\u001b[0m \u001b[0mself\u001b[0m\u001b[1;33m.\u001b[0m\u001b[0m_run_wrapper\u001b[0m\u001b[1;33m(\u001b[0m\u001b[0mruntime\u001b[0m\u001b[1;33m)\u001b[0m\u001b[1;33m\u001b[0m\u001b[0m\n\u001b[0m\u001b[0;32m   1046\u001b[0m             \u001b[0moutputs\u001b[0m \u001b[1;33m=\u001b[0m \u001b[0mself\u001b[0m\u001b[1;33m.\u001b[0m\u001b[0maggregate_outputs\u001b[0m\u001b[1;33m(\u001b[0m\u001b[0mruntime\u001b[0m\u001b[1;33m)\u001b[0m\u001b[1;33m\u001b[0m\u001b[0m\n\u001b[0;32m   1047\u001b[0m             \u001b[0mruntime\u001b[0m\u001b[1;33m.\u001b[0m\u001b[0mendTime\u001b[0m \u001b[1;33m=\u001b[0m \u001b[0mdt\u001b[0m\u001b[1;33m.\u001b[0m\u001b[0misoformat\u001b[0m\u001b[1;33m(\u001b[0m\u001b[0mdt\u001b[0m\u001b[1;33m.\u001b[0m\u001b[0mutcnow\u001b[0m\u001b[1;33m(\u001b[0m\u001b[1;33m)\u001b[0m\u001b[1;33m)\u001b[0m\u001b[1;33m\u001b[0m\u001b[0m\n",
      "\u001b[1;32m/home/gdholla1/git_projects/nipype/nipype/interfaces/base.pyc\u001b[0m in \u001b[0;36m_run_wrapper\u001b[1;34m(self, runtime)\u001b[0m\n\u001b[0;32m   1480\u001b[0m \u001b[1;33m\u001b[0m\u001b[0m\n\u001b[0;32m   1481\u001b[0m     \u001b[1;32mdef\u001b[0m \u001b[0m_run_wrapper\u001b[0m\u001b[1;33m(\u001b[0m\u001b[0mself\u001b[0m\u001b[1;33m,\u001b[0m \u001b[0mruntime\u001b[0m\u001b[1;33m)\u001b[0m\u001b[1;33m:\u001b[0m\u001b[1;33m\u001b[0m\u001b[0m\n\u001b[1;32m-> 1482\u001b[1;33m         \u001b[0mruntime\u001b[0m \u001b[1;33m=\u001b[0m \u001b[0mself\u001b[0m\u001b[1;33m.\u001b[0m\u001b[0m_run_interface\u001b[0m\u001b[1;33m(\u001b[0m\u001b[0mruntime\u001b[0m\u001b[1;33m)\u001b[0m\u001b[1;33m\u001b[0m\u001b[0m\n\u001b[0m\u001b[0;32m   1483\u001b[0m         \u001b[1;32mreturn\u001b[0m \u001b[0mruntime\u001b[0m\u001b[1;33m\u001b[0m\u001b[0m\n\u001b[0;32m   1484\u001b[0m \u001b[1;33m\u001b[0m\u001b[0m\n",
      "\u001b[1;32m/home/gdholla1/git_projects/nipype/nipype/interfaces/base.pyc\u001b[0m in \u001b[0;36m_run_interface\u001b[1;34m(self, runtime, correct_return_codes)\u001b[0m\n\u001b[0;32m   1514\u001b[0m         \u001b[1;32mif\u001b[0m \u001b[0mruntime\u001b[0m\u001b[1;33m.\u001b[0m\u001b[0mreturncode\u001b[0m \u001b[1;32mis\u001b[0m \u001b[0mNone\u001b[0m \u001b[1;32mor\u001b[0m\u001b[0;31m \u001b[0m\u001b[0;31m\\\u001b[0m\u001b[1;33m\u001b[0m\u001b[0m\n\u001b[0;32m   1515\u001b[0m                 \u001b[0mruntime\u001b[0m\u001b[1;33m.\u001b[0m\u001b[0mreturncode\u001b[0m \u001b[1;32mnot\u001b[0m \u001b[1;32min\u001b[0m \u001b[0mcorrect_return_codes\u001b[0m\u001b[1;33m:\u001b[0m\u001b[1;33m\u001b[0m\u001b[0m\n\u001b[1;32m-> 1516\u001b[1;33m             \u001b[0mself\u001b[0m\u001b[1;33m.\u001b[0m\u001b[0mraise_exception\u001b[0m\u001b[1;33m(\u001b[0m\u001b[0mruntime\u001b[0m\u001b[1;33m)\u001b[0m\u001b[1;33m\u001b[0m\u001b[0m\n\u001b[0m\u001b[0;32m   1517\u001b[0m \u001b[1;33m\u001b[0m\u001b[0m\n\u001b[0;32m   1518\u001b[0m         \u001b[1;32mreturn\u001b[0m \u001b[0mruntime\u001b[0m\u001b[1;33m\u001b[0m\u001b[0m\n",
      "\u001b[1;32m/home/gdholla1/git_projects/nipype/nipype/interfaces/base.pyc\u001b[0m in \u001b[0;36mraise_exception\u001b[1;34m(self, runtime)\u001b[0m\n\u001b[0;32m   1438\u001b[0m         \u001b[0mmessage\u001b[0m \u001b[1;33m+=\u001b[0m \u001b[1;34m\"Standard error:\\n\"\u001b[0m \u001b[1;33m+\u001b[0m \u001b[0mruntime\u001b[0m\u001b[1;33m.\u001b[0m\u001b[0mstderr\u001b[0m \u001b[1;33m+\u001b[0m \u001b[1;34m\"\\n\"\u001b[0m\u001b[1;33m\u001b[0m\u001b[0m\n\u001b[0;32m   1439\u001b[0m         \u001b[0mmessage\u001b[0m \u001b[1;33m+=\u001b[0m \u001b[1;34m\"Return code: \"\u001b[0m \u001b[1;33m+\u001b[0m \u001b[0mstr\u001b[0m\u001b[1;33m(\u001b[0m\u001b[0mruntime\u001b[0m\u001b[1;33m.\u001b[0m\u001b[0mreturncode\u001b[0m\u001b[1;33m)\u001b[0m\u001b[1;33m\u001b[0m\u001b[0m\n\u001b[1;32m-> 1440\u001b[1;33m         \u001b[1;32mraise\u001b[0m \u001b[0mRuntimeError\u001b[0m\u001b[1;33m(\u001b[0m\u001b[0mmessage\u001b[0m\u001b[1;33m)\u001b[0m\u001b[1;33m\u001b[0m\u001b[0m\n\u001b[0m\u001b[0;32m   1441\u001b[0m \u001b[1;33m\u001b[0m\u001b[0m\n\u001b[0;32m   1442\u001b[0m     \u001b[1;33m@\u001b[0m\u001b[0mclassmethod\u001b[0m\u001b[1;33m\u001b[0m\u001b[0m\n",
      "\u001b[1;31mRuntimeError\u001b[0m: Command:\nantsApplyTransforms --default-value 0 --input /home/gdholla1/data/daphne/preprocessed/mean_signal/_subject_id_S00/_fwhm_0.0/_tsnr0/run1_dtype_mcf_mask_gms_tempfilt_maths_tsnr_mean.nii.gz --interpolation Linear --output run1_dtype_mcf_mask_gms_tempfilt_maths_tsnr_mean_trans.nii.gz --reference-image /home/gdholla1/data/daphne/clean/S00/t1.nii.gz --transform /home/gdholla1/data/daphne/registration/slab2t1_weighted/_subject_id_S00/run1_dtype_mcf_mask_gms_mean_flirt_whole_brain_epi_flirt.mat\nStandard output:\n\nStandard error:\nSegmentation fault (core dumped)\nReturn code: 139\nInterface ApplyTransforms failed to run. "
     ]
    }
   ],
   "source": [
    "transformer.inputs.input_image = '/home/gdholla1/data/daphne/preprocessed/mean_signal/_subject_id_S00/_fwhm_0.0/_tsnr0/run1_dtype_mcf_mask_gms_tempfilt_maths_tsnr_mean.nii.gz'\n",
    "transformer.inputs.reference_image = '/home/gdholla1/data/daphne/clean/S00/t1.nii.gz'\n",
    "transformer.inputs.transforms = '/home/gdholla1/data/daphne/registration/slab2t1_weighted/_subject_id_S00/run1_dtype_mcf_mask_gms_mean_flirt_whole_brain_epi_flirt.mat'\n",
    "\n",
    "r = transformer.run()"
   ]
  },
  {
   "cell_type": "code",
   "execution_count": null,
   "metadata": {
    "collapsed": true
   },
   "outputs": [],
   "source": [
    "r.outputs"
   ]
  },
  {
   "cell_type": "code",
   "execution_count": null,
   "metadata": {
    "collapsed": true
   },
   "outputs": [],
   "source": [
    "transformer.inputs.input_image = '/home/gdholla1/data/daphne/clean/S00/t1.nii.gz'\n",
    "transformer.inputs.reference_image = '/usr/share/fsl/data/standard/MNI152_T1_2mm_brain.nii.gz'\n",
    "transformer.inputs.transforms = "
   ]
  }
 ],
 "metadata": {
  "kernelspec": {
   "display_name": "Python 2",
   "language": "python",
   "name": "python2"
  },
  "language_info": {
   "codemirror_mode": {
    "name": "ipython",
    "version": 2
   },
   "file_extension": ".py",
   "mimetype": "text/x-python",
   "name": "python",
   "nbconvert_exporter": "python",
   "pygments_lexer": "ipython2",
   "version": "2.7.3"
  }
 },
 "nbformat": 4,
 "nbformat_minor": 0
}
