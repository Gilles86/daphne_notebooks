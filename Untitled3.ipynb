{
 "cells": [
  {
   "cell_type": "code",
   "execution_count": 1,
   "metadata": {
    "collapsed": true
   },
   "outputs": [],
   "source": [
    "from nipype.interfaces import fsl"
   ]
  },
  {
   "cell_type": "code",
   "execution_count": 2,
   "metadata": {
    "collapsed": true
   },
   "outputs": [],
   "source": [
    "applier = fsl.ApplyXfm()\n",
    "\n",
    "applier.inputs.in_file = '/home/gdholla1/data/daphne/clean/S01/whole_brain_epi.nii.gz'\n",
    "applier.inputs.reference = '/home/gdholla1/workflow_folders/register_daphne/_subject_id_01/better/t1_brain.nii.gz'\n",
    "applier.inputs.in_matrix_file = '/home/gdholla1/workflow_folders/register_daphne/_subject_id_01/mean2anat/whole_brain_epi_flirt.mat'\n",
    "\n",
    "r= applier.run()"
   ]
  },
  {
   "cell_type": "code",
   "execution_count": 3,
   "metadata": {
    "collapsed": false
   },
   "outputs": [
    {
     "data": {
      "text/plain": [
       "\n",
       "out_file = /home/gdholla1/notebooks/2016_daphne/whole_brain_epi_flirt.nii.gz\n",
       "out_log = /home/gdholla1/notebooks/2016_daphne/whole_brain_epi_flirt.log\n",
       "out_matrix_file = /home/gdholla1/notebooks/2016_daphne/whole_brain_epi_flirt.mat"
      ]
     },
     "execution_count": 3,
     "metadata": {},
     "output_type": "execute_result"
    }
   ],
   "source": [
    "r.outputs"
   ]
  },
  {
   "cell_type": "code",
   "execution_count": null,
   "metadata": {
    "collapsed": true
   },
   "outputs": [],
   "source": []
  }
 ],
 "metadata": {
  "kernelspec": {
   "display_name": "Python 2",
   "language": "python",
   "name": "python2"
  },
  "language_info": {
   "codemirror_mode": {
    "name": "ipython",
    "version": 2
   },
   "file_extension": ".py",
   "mimetype": "text/x-python",
   "name": "python",
   "nbconvert_exporter": "python",
   "pygments_lexer": "ipython2",
   "version": "2.7.3"
  }
 },
 "nbformat": 4,
 "nbformat_minor": 0
}
