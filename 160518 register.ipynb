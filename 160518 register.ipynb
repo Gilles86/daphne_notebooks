{
 "cells": [
  {
   "cell_type": "code",
   "execution_count": 8,
   "metadata": {
    "collapsed": true
   },
   "outputs": [],
   "source": [
    "from nipype.interfaces import ants"
   ]
  },
  {
   "cell_type": "code",
   "execution_count": 9,
   "metadata": {
    "collapsed": false
   },
   "outputs": [],
   "source": [
    "reg = ants.Registration()\n",
    "reg.inputs.transforms = ['Rigid', 'Affine']\n",
    "reg.inputs.transform_parameters = [(0.1,), (0.1,)]\n",
    "reg.inputs.number_of_iterations = [[1000,500,250,100]]*2\n",
    "reg.inputs.dimension = 3\n",
    "reg.inputs.write_composite_transform = True\n",
    "reg.inputs.collapse_output_transforms = True\n",
    "#reg.inputs.metric = ['MI']*2\n",
    "reg.inputs.metric = ['CC', 'MI']\n",
    "reg.inputs.metric_weight = [1]*2 # Default (value ignored currently by ANTs)\n",
    "reg.inputs.radius_or_number_of_bins = [32]*2\n",
    "reg.inputs.sampling_strategy = ['Regular']*2\n",
    "reg.inputs.sampling_percentage = [0.25]*2\n",
    "reg.inputs.convergence_threshold = [1.e-8]*2\n",
    "reg.inputs.convergence_window_size = [10]*2\n",
    "reg.inputs.smoothing_sigmas = [[3,2,1,0]]*2\n",
    "reg.inputs.sigma_units = ['mm']*2\n",
    "reg.inputs.shrink_factors = [[8,4,2,1]]*2\n",
    "reg.inputs.use_estimate_learning_rate_once = [True, True, True]\n",
    "reg.inputs.use_histogram_matching = [False]*2 # This is the default\n",
    "reg.inputs.initial_moving_transform_com = True\n",
    "reg.inputs.output_warped_image = True\n",
    "reg.inputs.winsorize_lower_quantile = 0.01\n",
    "reg.inputs.winsorize_upper_quantile = 0.99"
   ]
  },
  {
   "cell_type": "code",
   "execution_count": null,
   "metadata": {
    "collapsed": false
   },
   "outputs": [],
   "source": [
    "reg.inputs.moving_image = '/home/gdholla1/data/daphne/clean/S01/tse.nii.gz'\n",
    "reg.inputs.fixed_image = '/home/gdholla1/data/daphne/clean/S01/t1.nii.gz'\n",
    "\n",
    "r = reg.run()"
   ]
  },
  {
   "cell_type": "code",
   "execution_count": null,
   "metadata": {
    "collapsed": true
   },
   "outputs": [],
   "source": []
  }
 ],
 "metadata": {
  "kernelspec": {
   "display_name": "Python 2",
   "language": "python",
   "name": "python2"
  }
 },
 "nbformat": 4,
 "nbformat_minor": 0
}
