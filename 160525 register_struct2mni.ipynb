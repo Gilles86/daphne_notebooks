{
 "cells": [
  {
   "cell_type": "code",
   "execution_count": 5,
   "metadata": {
    "collapsed": true
   },
   "outputs": [],
   "source": [
    "import nipype.pipeline.engine as pe\n",
    "from nipype.interfaces import ants\n",
    "from nipype.interfaces import fsl\n",
    "from nipype.interfaces import io as nio"
   ]
  },
  {
   "cell_type": "code",
   "execution_count": 11,
   "metadata": {
    "collapsed": false
   },
   "outputs": [
    {
     "data": {
      "text/plain": [
       "<networkx.classes.digraph.DiGraph at 0x7b5afd0>"
      ]
     },
     "execution_count": 11,
     "metadata": {},
     "output_type": "execute_result"
    }
   ],
   "source": [
    "templates = {'struct':'/home/gdholla1/data/daphne/clean/{subject_id}/t1.nii.gz'}\n",
    "\n",
    "workflow = pe.Workflow(name='register2mni_daphne', base_dir='/home/gdholla1/workflow_folders/')\n",
    "\n",
    "selector = pe.Node(nio.SelectFiles(templates), name='selector')\n",
    "selector.iterables = [('subject_id', ['S00'])]\n",
    "\n",
    "better = pe.Node(fsl.BET(), name='better')\n",
    "workflow.connect(selector, 'struct', better, 'in_file')\n",
    "\n",
    "reg = pe.Node(ants.Registration(), name='antsRegister')\n",
    "reg.inputs.transforms = ['Rigid', 'Affine', 'SyN']\n",
    "reg.inputs.transform_parameters = [(0.1,), (0.1,), (0.1, 3.0, 0.0)]\n",
    "reg.inputs.number_of_iterations = [[1000,500,250,100]]*2 + [[100,100,70,20]]\n",
    "reg.inputs.dimension = 3\n",
    "reg.inputs.write_composite_transform = True\n",
    "reg.inputs.collapse_output_transforms = True\n",
    "reg.inputs.metric = ['MI']*2 + ['CC']\n",
    "reg.inputs.metric_weight = [1]*3 # Default (value ignored currently by ANTs)\n",
    "reg.inputs.radius_or_number_of_bins = [32]*2 + [4]\n",
    "reg.inputs.sampling_strategy = ['Regular']*2 + [None]\n",
    "reg.inputs.sampling_percentage = [0.25]*2 + [None]\n",
    "reg.inputs.convergence_threshold = [1.e-8]*2 + [1e-9]\n",
    "reg.inputs.convergence_window_size = [10]*2 + [15]\n",
    "reg.inputs.smoothing_sigmas = [[3,2,1,0]]*3\n",
    "reg.inputs.sigma_units = ['mm']*3\n",
    "reg.inputs.shrink_factors = [[8,4,2,1]]*2 + [[6,4,2,1]]\n",
    "reg.inputs.use_estimate_learning_rate_once = [True, True, True]\n",
    "reg.inputs.use_histogram_matching = [False]*2 + [True] # This is the default\n",
    "reg.inputs.initial_moving_transform_com = True\n",
    "reg.inputs.output_warped_image = True\n",
    "reg.inputs.winsorize_lower_quantile = 0.01\n",
    "reg.inputs.winsorize_upper_quantile = 0.99\n",
    "\n",
    "reg.inputs.fixed_image = '/usr/share/fsl/data/standard/MNI152_T1_2mm_brain.nii.gz'\n",
    "\n",
    "workflow.connect(better, 'out_file', reg, 'moving_image')\n",
    "\n",
    "ds = pe.Node(nio.DataSink(), name='datasink')\n",
    "ds.inputs.base_directory = '/home/gdholla1/data/daphne/registration/'\n",
    "\n",
    "workflow.connect(better, 'out_file', ds, 't1_weighted_bet')\n",
    "workflow.connect(reg, 'composite_transform', ds, 't1_weighted2mni.@mat')\n",
    "workflow.connect(reg, 'warped_image', ds, 't1_weighted2mni')\n",
    "workflow.connect(reg, 'inverse_composite_transform', ds, 'mni2t1_weighted')\n",
    "\n",
    "workflow.run()"
   ]
  },
  {
   "cell_type": "code",
   "execution_count": 9,
   "metadata": {
    "collapsed": false
   },
   "outputs": [
    {
     "data": {
      "text/plain": [
       "\n",
       "composite_transform = <undefined>\n",
       "forward_invert_flags = <undefined>\n",
       "forward_transforms = <undefined>\n",
       "inverse_composite_transform = <undefined>\n",
       "inverse_warped_image = <undefined>\n",
       "reverse_invert_flags = <undefined>\n",
       "reverse_transforms = <undefined>\n",
       "save_state = <undefined>\n",
       "warped_image = <undefined>"
      ]
     },
     "execution_count": 9,
     "metadata": {},
     "output_type": "execute_result"
    }
   ],
   "source": [
    "reg.outputs"
   ]
  },
  {
   "cell_type": "code",
   "execution_count": null,
   "metadata": {
    "collapsed": true
   },
   "outputs": [],
   "source": []
  }
 ],
 "metadata": {
  "kernelspec": {
   "display_name": "Python 2",
   "language": "python",
   "name": "python2"
  },
  "language_info": {
   "codemirror_mode": {
    "name": "ipython",
    "version": 2
   },
   "file_extension": ".py",
   "mimetype": "text/x-python",
   "name": "python",
   "nbconvert_exporter": "python",
   "pygments_lexer": "ipython2",
   "version": "2.7.3"
  }
 },
 "nbformat": 4,
 "nbformat_minor": 0
}
