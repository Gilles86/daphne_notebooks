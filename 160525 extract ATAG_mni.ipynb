{
 "cells": [
  {
   "cell_type": "code",
   "execution_count": 1,
   "metadata": {
    "collapsed": true
   },
   "outputs": [],
   "source": [
    "import nipype.pipeline.engine as pe\n",
    "import nipype.interfaces.fsl as fsl\n",
    "import nipype.interfaces.io as nio\n",
    "import nipype.interfaces.ants as ants\n",
    "import nipype.interfaces.utility as util\n",
    "from nipype.interfaces.c3 import C3dAffineTool\n"
   ]
  },
  {
   "cell_type": "code",
   "execution_count": 2,
   "metadata": {
    "collapsed": true
   },
   "outputs": [],
   "source": [
    "import glob"
   ]
  },
  {
   "cell_type": "code",
   "execution_count": 3,
   "metadata": {
    "collapsed": true
   },
   "outputs": [],
   "source": [
    "def extract_weighted_timeseries(data_fn, mask_fn):\n",
    "    import nibabel as nb\n",
    "    import numpy as np\n",
    "    from nipype.utils.filemanip import split_filename\n",
    "    import os\n",
    "    \n",
    "    data_image = nb.load(data_fn)\n",
    "    mask_image = nb.load(mask_fn)\n",
    "    \n",
    "    data = data_image.get_data()\n",
    "    mask = mask_image.get_data()\n",
    " \n",
    "    \n",
    "    ts = (data[mask > 0] * mask[mask > 0][:, np.newaxis]  / mask.sum()).sum(0)\n",
    "    \n",
    "    _, fn, _ = split_filename(data_fn)\n",
    "    new_fn = os.path.abspath('%s_weighted.txt' % fn)\n",
    "    \n",
    "    np.savetxt(new_fn, ts)\n",
    "    \n",
    "    return new_fn\n",
    "    "
   ]
  },
  {
   "cell_type": "code",
   "execution_count": 7,
   "metadata": {
    "collapsed": false
   },
   "outputs": [
    {
     "data": {
      "text/plain": [
       "<networkx.classes.digraph.DiGraph at 0x90e5f90>"
      ]
     },
     "execution_count": 7,
     "metadata": {},
     "output_type": "execute_result"
    }
   ],
   "source": [
    "templates = {'mean_epi':'/home/gdholla1/data/daphne/preprocessed/feat_preprocess/mean/_subject_id_{subject_id}/_fwhm_0.0/run1_dtype_mcf_mask_gms_mean.nii.gz',\n",
    "              't1_weighted':'/home/gdholla1/data/daphne/clean/{subject_id}/t1.nii.gz',\n",
    "             'epi2t1_weighted':'/home/gdholla1/data/daphne/registration/slab2t1_weighted/_subject_id_{subject_id}/run1_dtype_mcf_mask_gms_mean_flirt_whole_brain_epi_flirt.mat',\n",
    "             'mni2t1_weighted':'/home/gdholla1/data/daphne/registration/mni2t1_weighted/_subject_id_{subject_id}/transformInverseComposite.h5',\n",
    "             'filtered_epi':'/home/gdholla1/data/daphne/preprocess_phys/motion_regressors_filtered_files/_subject_id_{subject_id}/_fwhm_0.0/_addmean*/run*_maths_maths_maths_dtype_mcf_mask_gms_tempfilt_regfilt_maths.nii.gz'}\n",
    "\n",
    "workflow = pe.Workflow(name='register2mni', base_dir='/home/gdholla1/workflow_folders/')\n",
    "\n",
    "subject_ids = [fn.split('/')[-1] for fn in glob.glob('/home/gdholla1/data/daphne/clean/*')]\n",
    "\n",
    "identity = pe.Node(util.IdentityInterface(fields=['subject_id']), name='identity')\n",
    "identity.iterables = [('subject_id', subject_ids)]\n",
    "# identity.iterables = [('subject_id', ['S00'])]\n",
    "             \n",
    "selector = pe.Node(nio.SelectFiles(templates), name='selector')\n",
    "\n",
    "workflow.connect(identity, 'subject_id', selector, 'subject_id')\n",
    "\n",
    "\n",
    "convert2itk = pe.Node(C3dAffineTool(),\n",
    "                  name='convert2itk')\n",
    "convert2itk.inputs.fsl2ras = True\n",
    "convert2itk.inputs.itk_transform = True\n",
    "\n",
    "workflow.connect(selector, 'epi2t1_weighted', convert2itk, 'transform_file')\n",
    "workflow.connect(selector, 'mean_epi', convert2itk, 'source_file')\n",
    "workflow.connect(selector, 't1_weighted', convert2itk, 'reference_file')\n",
    "\n",
    "transform_merger = pe.Node(util.Merge(2), name='transform_merger')\n",
    "workflow.connect(selector, 'mni2t1_weighted', transform_merger, 'in2')\n",
    "workflow.connect(convert2itk, 'itk_transform', transform_merger, 'in1')\n",
    "\n",
    "mni2mean_epi = pe.Node(ants.ApplyTransforms(), name='mni2mean_epi')\n",
    "mni2mean_epi.inputs.input_image = '/usr/share/fsl/data/standard/MNI152_T1_2mm_brain.nii.gz'\n",
    "mni2mean_epi.inputs.invert_transform_flags = [True, False]\n",
    "\n",
    "workflow.connect(selector, 'mean_epi', mni2mean_epi, 'reference_image')\n",
    "workflow.connect(transform_merger, 'out', mni2mean_epi, 'transforms')\n",
    "\n",
    "mask_templates = {'mask':'/home/gdholla1/data/standard_masks/resampled_atag_masks/{mask}.nii.gz'}\n",
    "mask_selector = pe.Node(nio.SelectFiles(mask_templates), name='mask_selector')\n",
    "\n",
    "mask_selector.iterables = [('mask', ['STh_L', 'STh_R', 'SN_L', 'SN_R', 'PAG', 'RN_L', 'RN_R', 'GPi_L', 'GPi_R', 'GPe_L', 'GPe_R'][:])]\n",
    "\n",
    "mask_transformer = pe.Node(ants.ApplyTransforms(), name='mask_transformer')\n",
    "mask_transformer.inputs.invert_transform_flags = [True, False]\n",
    "workflow.connect(selector, 'mean_epi', mask_transformer, 'reference_image')\n",
    "workflow.connect(transform_merger, 'out', mask_transformer, 'transforms')\n",
    "workflow.connect(mask_selector, 'mask', mask_transformer, 'input_image')\n",
    "\n",
    "\n",
    "## EXTRACT WEIGHTED SIGNAL PHYS CONJUNCT\n",
    "extract_weighted_phys = pe.MapNode(util.Function(function=extract_weighted_timeseries,\n",
    "                                                 input_names=['data_fn', 'mask_fn'],\n",
    "                                                 output_names=['weighted_timeseries']),\n",
    "                                   iterfield=['data_fn'],\n",
    "                                   name='extract_weighted_phys')\n",
    "\n",
    "workflow.connect(selector, 'filtered_epi', extract_weighted_phys, 'data_fn')\n",
    "workflow.connect(mask_transformer, 'output_image', extract_weighted_phys, 'mask_fn')\n",
    "\n",
    "ds = pe.Node(nio.DataSink(), name='datasink')\n",
    "ds.inputs.base_directory = '/home/gdholla1/data/daphne/mni_masks'\n",
    "\n",
    "workflow.connect(mni2mean_epi, 'output_image', ds, 'mni2mean_epi')\n",
    "workflow.connect(mask_transformer, 'output_image', ds, 'masks2mean_epi')\n",
    "workflow.connect(extract_weighted_phys, 'weighted_timeseries', ds, 'extracted_signal')\n",
    "\n",
    "\n",
    "workflow.run()"
   ]
  },
  {
   "cell_type": "code",
   "execution_count": null,
   "metadata": {
    "collapsed": true
   },
   "outputs": [],
   "source": []
  }
 ],
 "metadata": {
  "kernelspec": {
   "display_name": "Python 2",
   "language": "python",
   "name": "python2"
  },
  "language_info": {
   "codemirror_mode": {
    "name": "ipython",
    "version": 2
   },
   "file_extension": ".py",
   "mimetype": "text/x-python",
   "name": "python",
   "nbconvert_exporter": "python",
   "pygments_lexer": "ipython2",
   "version": "2.7.3"
  }
 },
 "nbformat": 4,
 "nbformat_minor": 0
}
