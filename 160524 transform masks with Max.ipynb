{
 "cells": [
  {
   "cell_type": "code",
   "execution_count": 1,
   "metadata": {
    "collapsed": true
   },
   "outputs": [],
   "source": [
    "from nipype.interfaces import fsl\n",
    "from nipype.interfaces import io as nio\n",
    "from nipype.interfaces import utility as util\n",
    "import nipype.pipeline.engine as pe"
   ]
  },
  {
   "cell_type": "code",
   "execution_count": 2,
   "metadata": {
    "collapsed": true
   },
   "outputs": [],
   "source": [
    "templates = {'slab2t1_weighted':'/home/gdholla1/data/daphne/registration/slab2t1_weighted/_subject_id_{subject_id}/run1_dtype_mcf_mask_gms_mean_flirt_whole_brain_epi_flirt.mat',\n",
    "              'tsnr':'/home/gdholla1/data/daphne/preprocessed/tsnr_file/_subject_id_{subject_id}/_fwhm_0.0/_tsnr*/run*_dtype_mcf_mask_gms_tempfilt_maths_tsnr.nii.gz',\n",
    "             'mean_epi':'/home/gdholla1/data/daphne/preprocessed/feat_preprocess/mean/_subject_id_{subject_id}/_fwhm_0.0/run1_dtype_mcf_mask_gms_mean.nii.gz',\n",
    "             'tsnr_phys':'/home/gdholla1/data/daphne/preprocess_phys/tsnr_file/_subject_id_{subject_id}/_fwhm_0.0/_tsnr*/run*_maths_maths_maths_dtype_mcf_mask_gms_tempfilt_maths_tsnr.nii.gz',\n",
    "             'epi_filtered':'/home/gdholla1/data/daphne/preprocessed/motion_regressors_filtered_files/_subject_id_{subject_id}/_fwhm_0.0/_addmean*/run*_dtype_mcf_mask_gms_tempfilt_regfilt_maths.nii.gz',\n",
    "             'epi_filtered_phys':'/home/gdholla1/data/daphne/preprocess_phys/motion_regressors_filtered_files/_subject_id_{subject_id}/_fwhm_0.0/_addmean*/run*_maths_maths_maths_dtype_mcf_mask_gms_tempfilt_regfilt_maths.nii.gz',\n",
    "             'tse2t1_weighted_mat':'/home/gdholla1/data/daphne/registration_max/tse2t1_weighted/mats/{subject_id}.mat',\n",
    "             'tse2t1_weighted_warp':'/home/gdholla1/data/daphne/registration_max/tse2t1_weighted/warps/{subject_id}.nii.gz',\n",
    "             'tse':'/home/gdholla1/data/daphne/clean/{subject_id}/tse.nii.gz',\n",
    "             't1_weighted':'/home/gdholla1/data/daphne/clean/{subject_id}/t1.nii.gz',}\n",
    "\n",
    "mask_templates = {'conjunct_mask':'/home/gdholla1/data/daphne/masks/tse_space/{subject_id}/{mask}_conjunct.nii.gz',\n",
    "                 'disjunct_mask':'/home/gdholla1/data/daphne/masks/tse_space/{subject_id}/{mask}_disjunct.nii.gz',}"
   ]
  },
  {
   "cell_type": "code",
   "execution_count": 19,
   "metadata": {
    "collapsed": true
   },
   "outputs": [],
   "source": [
    "def extract_weighted_timeseries(data_fn, mask_fn):\n",
    "    import nibabel as nb\n",
    "    import numpy as np\n",
    "    from nipype.utils.filemanip import split_filename\n",
    "    import os\n",
    "    \n",
    "    data_image = nb.load(data_fn)\n",
    "    mask_image = nb.load(mask_fn)\n",
    "    \n",
    "    data = data_image.get_data()\n",
    "    mask = mask_image.get_data()\n",
    " \n",
    "    \n",
    "    if len(data.shape) == len(mask.shape):\n",
    "        ts = (data[mask > 0] * mask[mask > 0]  / mask.sum()).sum(0)        \n",
    "        ts = np.array([ts])\n",
    "    else:\n",
    "        ts = (data[mask > 0] * mask[mask > 0][:, np.newaxis]  / mask.sum()).sum(0)\n",
    "    \n",
    "    _, fn, _ = split_filename(data_fn)\n",
    "    new_fn = os.path.abspath('%s_weighted.txt' % fn)\n",
    "    \n",
    "    np.savetxt(new_fn, np.array(ts))\n",
    "    \n",
    "    return new_fn\n",
    "    "
   ]
  },
  {
   "cell_type": "code",
   "execution_count": 20,
   "metadata": {
    "collapsed": false
   },
   "outputs": [
    {
     "data": {
      "text/plain": [
       "'/home/gdholla1/notebooks/2016_daphne/run1_dtype_mcf_mask_gms_tempfilt_maths_tsnr_weighted.txt'"
      ]
     },
     "execution_count": 20,
     "metadata": {},
     "output_type": "execute_result"
    }
   ],
   "source": [
    "extract_weighted_timeseries('/home/gdholla1/data/daphne/preprocessed/tsnr_file/_subject_id_S03/_fwhm_0.0/_tsnr0/run1_dtype_mcf_mask_gms_tempfilt_maths_tsnr.nii.gz',\n",
    "                            '/home/gdholla1/data/daphne/registration_max/conjunct_masks/_subject_id_S03/_mask_LC_L/_interp_trilinear/LC_L_conjunct_warp.nii.gz')"
   ]
  },
  {
   "cell_type": "code",
   "execution_count": 21,
   "metadata": {
    "collapsed": false
   },
   "outputs": [],
   "source": [
    "import glob\n",
    "subject_ids = [fn.split('/')[-1][:] for fn in glob.glob('/home/gdholla1/data/daphne/clean/*')]"
   ]
  },
  {
   "cell_type": "code",
   "execution_count": 22,
   "metadata": {
    "collapsed": false
   },
   "outputs": [
    {
     "data": {
      "text/plain": [
       "<networkx.classes.digraph.DiGraph at 0x82eced0>"
      ]
     },
     "execution_count": 22,
     "metadata": {},
     "output_type": "execute_result"
    }
   ],
   "source": [
    "workflow = pe.Workflow(name='register_max_daphne', base_dir='/home/gdholla1/workflow_folders/')\n",
    "\n",
    "identity = pe.Node(util.IdentityInterface(fields=['subject_id']), name='identity')\n",
    "identity.iterables = [('subject_id', subject_ids)]\n",
    "\n",
    "selector = pe.Node(nio.SelectFiles(templates), name='selector')\n",
    "workflow.connect(identity, 'subject_id', selector, 'subject_id')\n",
    "\n",
    "mask_selector = pe.Node(nio.SelectFiles(mask_templates), name='mask_selector')\n",
    "workflow.connect(identity, 'subject_id', mask_selector, 'subject_id')\n",
    "mask_selector.iterables = [('mask', ['LC_L', 'LC_R'])]\n",
    "\n",
    "invert_warp = pe.Node(fsl.InvWarp(), name='invert_warp')\n",
    "workflow.connect(selector, 'tse2t1_weighted_warp', invert_warp, 'warp')\n",
    "workflow.connect(selector, 'tse', invert_warp, 'reference')\n",
    "\n",
    "invert_mat = pe.Node(fsl.ConvertXFM(invert_xfm=True), name='invert_mat')\n",
    "workflow.connect(selector, 'tse2t1_weighted_mat', invert_mat, 'in_file')\n",
    "\n",
    "t1_weighted2tse = pe.Node(fsl.ApplyWarp(), name='t1_weighted2tse')\n",
    "workflow.connect(selector, 't1_weighted', t1_weighted2tse, 'in_file')\n",
    "workflow.connect(invert_mat, 'out_file', t1_weighted2tse, 'premat')\n",
    "workflow.connect(invert_warp, 'inverse_warp', t1_weighted2tse, 'field_file')\n",
    "workflow.connect(selector, 'tse', t1_weighted2tse, 'ref_file')\n",
    "\n",
    "t1_weighted2slab = pe.Node(fsl.ConvertXFM(invert_xfm=True), name='t1_weighted2slab')\n",
    "workflow.connect(selector, 'slab2t1_weighted', t1_weighted2slab, 'in_file')\n",
    "\n",
    "tse2slab = pe.Node(fsl.ApplyWarp(), name='tse2slab')\n",
    "workflow.connect(selector, 'tse', tse2slab, 'in_file')\n",
    "workflow.connect(selector, 'tse2t1_weighted_mat', tse2slab, 'premat')\n",
    "workflow.connect(selector, 'tse2t1_weighted_warp', tse2slab, 'field_file')\n",
    "workflow.connect(t1_weighted2slab, 'out_file', tse2slab, 'postmat')\n",
    "workflow.connect(selector, 'mean_epi', tse2slab, 'ref_file')\n",
    "\n",
    "\n",
    "tse2slab_conjunct = pe.Node(fsl.ApplyWarp(), name='tse2slab_conjunct')\n",
    "tse2slab_conjunct.iterables = [('interp', ['trilinear', 'nn'])]\n",
    "workflow.connect(mask_selector, 'conjunct_mask', tse2slab_conjunct, 'in_file')\n",
    "workflow.connect(selector, 'tse2t1_weighted_mat', tse2slab_conjunct, 'premat')\n",
    "workflow.connect(selector, 'tse2t1_weighted_warp', tse2slab_conjunct, 'field_file')\n",
    "workflow.connect(t1_weighted2slab, 'out_file', tse2slab_conjunct, 'postmat')\n",
    "workflow.connect(selector, 'mean_epi', tse2slab_conjunct, 'ref_file')\n",
    "\n",
    "tse2slab_disjunct = pe.Node(fsl.ApplyWarp(), name='tse2slab_disjunct')\n",
    "tse2slab_disjunct.iterables = [('interp', ['trilinear', 'nn'])]\n",
    "workflow.connect(mask_selector, 'disjunct_mask', tse2slab_disjunct, 'in_file')\n",
    "workflow.connect(selector, 'tse2t1_weighted_mat', tse2slab_disjunct, 'premat')\n",
    "workflow.connect(selector, 'tse2t1_weighted_warp', tse2slab_disjunct, 'field_file')\n",
    "workflow.connect(t1_weighted2slab, 'out_file', tse2slab_disjunct, 'postmat')\n",
    "workflow.connect(selector, 'mean_epi', tse2slab_disjunct, 'ref_file')\n",
    "\n",
    "ds = pe.Node(nio.DataSink(), name='datasink')\n",
    "ds.inputs.base_directory = '/home/gdholla1/data/daphne/registration_max/'\n",
    "\n",
    "ds.inputs.substitutions = [('interp_nn', 'interp_nearestneighbour')]\n",
    "\n",
    "workflow.connect(t1_weighted2tse, 'out_file', ds, 't1_weighted2tse')\n",
    "workflow.connect(tse2slab, 'out_file', ds, 'tse2slab')\n",
    "workflow.connect(tse2slab_conjunct, 'out_file', ds, 'conjunct_masks')\n",
    "workflow.connect(tse2slab_disjunct, 'out_file', ds, 'disjunct_masks')\n",
    "\n",
    "# # EXTRACT WEIGHTED SIGNAL  CONJUNCT\n",
    "# extract_weighted = pe.MapNode(util.Function(function=extract_weighted_timeseries,\n",
    "#                                                  input_names=['data_fn', 'mask_fn'],\n",
    "#                                                  output_names=['weighted_timeseries']),\n",
    "#                                    iterfield=['data_fn'],\n",
    "#                                    name='extract_weighted')\n",
    "# workflow.connect(selector, 'epi_filtered', extract_weighted, 'data_fn')\n",
    "# workflow.connect(tse2slab_conjunct, 'out_file', extract_weighted, 'mask_fn')\n",
    "\n",
    "\n",
    "# # EXTRACT WEIGHTED SIGNAL PHYS CONJUNCT\n",
    "# extract_weighted_phys = pe.MapNode(util.Function(function=extract_weighted_timeseries,\n",
    "#                                                  input_names=['data_fn', 'mask_fn'],\n",
    "#                                                  output_names=['weighted_timeseries']),\n",
    "#                                    iterfield=['data_fn'],\n",
    "#                                    name='extract_weighted_phys')\n",
    "# workflow.connect(selector, 'epi_filtered_phys', extract_weighted_phys, 'data_fn')\n",
    "# workflow.connect(tse2slab_conjunct, 'out_file', extract_weighted_phys, 'mask_fn')\n",
    "\n",
    "# EXTRACT tSNR\n",
    "extract_tsnr = pe.MapNode(util.Function(function=extract_weighted_timeseries,\n",
    "                                                 input_names=['data_fn', 'mask_fn'],\n",
    "                                                 output_names=['weighted_timeseries']),\n",
    "                                   iterfield=['data_fn'],\n",
    "                                   name='extract_tsnr')\n",
    "workflow.connect(selector, 'tsnr', extract_tsnr, 'data_fn')\n",
    "workflow.connect(tse2slab_conjunct, 'out_file', extract_tsnr, 'mask_fn')\n",
    "\n",
    "# EXTRACT tSNR_phys\n",
    "extract_tsnr_phys = pe.MapNode(util.Function(function=extract_weighted_timeseries,\n",
    "                                                 input_names=['data_fn', 'mask_fn'],\n",
    "                                                 output_names=['weighted_timeseries']),\n",
    "                                   iterfield=['data_fn'],\n",
    "                                   name='extract_tsnr_phys')\n",
    "workflow.connect(selector, 'tsnr_phys', extract_tsnr_phys, 'data_fn')\n",
    "workflow.connect(tse2slab_conjunct, 'out_file', extract_tsnr_phys, 'mask_fn')\n",
    "\n",
    "# workflow.connect(extract_weighted_phys, 'weighted_timeseries', ds, 'extracted_signal_weighted.phys_filtered')\n",
    "# workflow.connect(extract_weighted, 'weighted_timeseries', ds, 'extracted_signal_weighted.phys_unfilted')\n",
    "# workflow.connect(extract_tsnr, 'weighted_timeseries', ds, 'tsnr.phys_unfilted')\n",
    "\n",
    "workflow.connect(extract_tsnr_phys, 'weighted_timeseries', ds, 'tsnr.phys_filtered')\n",
    "workflow.connect(extract_tsnr, 'weighted_timeseries', ds, 'tsnr.phys_unfiltered')\n",
    "\n",
    "\n",
    "workflow.run()"
   ]
  },
  {
   "cell_type": "code",
   "execution_count": 19,
   "metadata": {
    "collapsed": false
   },
   "outputs": [],
   "source": [
    "a = np.loadtxt('/home/gdholla1/data/daphne/registration_max/extracted_signal_weighted/_subject_id_S00/_mask_LC_L/_interp_trilinear/_extract_weighted_phys0/run1_maths_maths_maths_dtype_mcf_mask_gms_tempfilt_regfilt_maths_weighted.txt')\n",
    "b = np.loadtxt('/home/gdholla1/data/daphne/registration_max/extracted_signal_weighted/_subject_id_S00/_mask_LC_R/_interp_trilinear/_extract_weighted_phys0/run1_maths_maths_maths_dtype_mcf_mask_gms_tempfilt_regfilt_maths_weighted.txt')\n",
    "c = np.loadtxt('/home/gdholla1/data/daphne/registration_max/extracted_signal_weighted/_subject_id_S00/_mask_LC_L/_interp_nearestneighbour/_extract_weighted_phys0/run1_maths_maths_maths_dtype_mcf_mask_gms_tempfilt_regfilt_maths_weighted.txt')\n",
    "d = np.loadtxt('/home/gdholla1/data/daphne/registration_max/extracted_signal_weighted/_subject_id_S00/_mask_LC_R/_interp_nearestneighbour/_extract_weighted_phys0/run1_maths_maths_maths_dtype_mcf_mask_gms_tempfilt_regfilt_maths_weighted.txt')"
   ]
  },
  {
   "cell_type": "code",
   "execution_count": 23,
   "metadata": {
    "collapsed": false
   },
   "outputs": [
    {
     "data": {
      "text/plain": [
       "[<matplotlib.lines.Line2D at 0x82f3810>]"
      ]
     },
     "execution_count": 23,
     "metadata": {},
     "output_type": "execute_result"
    },
    {
     "data": {
      "image/png": "[encoded data removed]",
      "text/plain": [
       "<matplotlib.figure.Figure at 0x80cb690>"
      ]
     },
     "metadata": {},
     "output_type": "display_data"
    }
   ],
   "source": [
    "# plt.plot(a)\n",
    "# plt.plot(b)\n",
    "# plt.plot(c)\n",
    "plt.plot(d)"
   ]
  },
  {
   "cell_type": "code",
   "execution_count": 26,
   "metadata": {
    "collapsed": false
   },
   "outputs": [
    {
     "data": {
      "text/plain": [
       "(0.12681612397610101, 0.0032711902824953611)"
      ]
     },
     "execution_count": 26,
     "metadata": {},
     "output_type": "execute_result"
    }
   ],
   "source": [
    "sp.stats.pearsonr(b, c)"
   ]
  },
  {
   "cell_type": "code",
   "execution_count": null,
   "metadata": {
    "collapsed": true
   },
   "outputs": [],
   "source": [
    "applywarp.inputs.in_file = '/home/gdholla1/data/daphne/clean/S04/tse.nii.gz'\n",
    "applywarp.inputs.ref_file = '/home/gdholla1/data/daphne/clean/S04/t1.nii.gz'\n",
    "applywarp.inputs.premat = '/home/public/LC_Leiden/MRI_DATA/TSE_slab/registered_2_whole_brain/pp04_S2.nii_2_wb'\n",
    "applywarp.inputs.field_file = '/home/public/LC_Leiden/MRI_DATA/TSE_slab/registered_2_whole_brain/pp04_S2_warpcoef.nii.gz'\n",
    "\n",
    "r = applywarp.run()"
   ]
  },
  {
   "cell_type": "code",
   "execution_count": 17,
   "metadata": {
    "collapsed": false
   },
   "outputs": [
    {
     "data": {
      "text/plain": [
       "\n",
       "out_file = /home/gdholla1/notebooks/2016_daphne/tse_warp.nii.gz"
      ]
     },
     "execution_count": 17,
     "metadata": {},
     "output_type": "execute_result"
    }
   ],
   "source": [
    "r.outputs"
   ]
  },
  {
   "cell_type": "code",
   "execution_count": 7,
   "metadata": {
    "collapsed": false
   },
   "outputs": [
    {
     "data": {
      "text/plain": [
       "\n",
       "abswarp = <undefined>\n",
       "args = <undefined>\n",
       "datatype = <undefined>\n",
       "environ = {'FSLOUTPUTTYPE': 'NIFTI_GZ'}\n",
       "field_file = /home/public/LC_Leiden/MRI_DATA/TSE_slab/registered_2_whole_brain/pp00_S2_warpcoef.nii.gz\n",
       "ignore_exception = False\n",
       "in_file = /home/gdholla1/data/daphne/clean/S00/tse.nii.gz\n",
       "interp = <undefined>\n",
       "mask_file = <undefined>\n",
       "out_file = <undefined>\n",
       "output_type = NIFTI_GZ\n",
       "postmat = <undefined>\n",
       "premat = <undefined>\n",
       "ref_file = /home/gdholla1/data/daphne/clean/S00/t1.nii.gz\n",
       "relwarp = <undefined>\n",
       "superlevel = <undefined>\n",
       "supersample = <undefined>\n",
       "terminal_output = stream"
      ]
     },
     "execution_count": 7,
     "metadata": {},
     "output_type": "execute_result"
    }
   ],
   "source": [
    "applywarp.inputs"
   ]
  },
  {
   "cell_type": "code",
   "execution_count": 19,
   "metadata": {
    "collapsed": false
   },
   "outputs": [
    {
     "data": {
      "text/plain": [
       "\n",
       "absolute = <undefined>\n",
       "args = <undefined>\n",
       "environ = {'FSLOUTPUTTYPE': 'NIFTI_GZ'}\n",
       "ignore_exception = False\n",
       "inverse_warp = <undefined>\n",
       "jacobian_max = <undefined>\n",
       "jacobian_min = <undefined>\n",
       "niter = <undefined>\n",
       "noconstraint = <undefined>\n",
       "output_type = NIFTI_GZ\n",
       "reference = <undefined>\n",
       "regularise = <undefined>\n",
       "relative = <undefined>\n",
       "terminal_output = stream\n",
       "warp = <undefined>"
      ]
     },
     "execution_count": 19,
     "metadata": {},
     "output_type": "execute_result"
    }
   ],
   "source": [
    "inverse_warp = fsl.InvWarp()\n",
    "\n",
    "inverse_warp.inputs.warp = ''"
   ]
  },
  {
   "cell_type": "code",
   "execution_count": 10,
   "metadata": {
    "collapsed": false
   },
   "outputs": [
    {
     "name": "stdout",
     "output_type": "stream",
     "text": [
      "1.004631749  0.0288713576  -0.06453615056  23.46124817  \r\n",
      "-0.02924773894  0.9876365286  -0.003161054393  19.82859585  \r\n",
      "0.06005577622  0.01729769468  0.9917865224  20.21623128  \r\n",
      "0  0  0  1  \r\n"
     ]
    }
   ],
   "source": [
    "!cat /home/public/LC_Leiden/MRI_DATA/TSE_slab/registered_2_whole_brain/pp00_S1.nii_2_wb"
   ]
  },
  {
   "cell_type": "code",
   "execution_count": null,
   "metadata": {
    "collapsed": true
   },
   "outputs": [],
   "source": [
    "applywarp.inputs.in_file = '/home/gdholla1/data/daphne/clean/S04/tse.nii.gz'\n",
    "applywarp.inputs.ref_file = '/home/gdholla1/data/daphne/clean/S04/t1.nii.gz'\n",
    "applywarp.inputs.premat = '/home/public/LC_Leiden/MRI_DATA/TSE_slab/registered_2_whole_brain/pp04_S2.nii_2_wb'\n",
    "applywarp.inputs.field_file = '/home/public/LC_Leiden/MRI_DATA/TSE_slab/registered_2_whole_brain/pp04_S2_warpcoef.nii.gz'\n",
    "\n",
    "r = applywarp.run()"
   ]
  }
 ],
 "metadata": {
  "kernelspec": {
   "display_name": "Python 2",
   "language": "python",
   "name": "python2"
  },
  "language_info": {
   "codemirror_mode": {
    "name": "ipython",
    "version": 2
   },
   "file_extension": ".py",
   "mimetype": "text/x-python",
   "name": "python",
   "nbconvert_exporter": "python",
   "pygments_lexer": "ipython2",
   "version": "2.7.3"
  }
 },
 "nbformat": 4,
 "nbformat_minor": 0
}
