{
 "cells": [
  {
   "cell_type": "code",
   "execution_count": 1,
   "metadata": {
    "collapsed": true
   },
   "outputs": [],
   "source": [
    "import glob"
   ]
  },
  {
   "cell_type": "code",
   "execution_count": 3,
   "metadata": {
    "collapsed": false
   },
   "outputs": [
    {
     "data": {
      "text/plain": [
       "['/home/public/LC_Leiden/LC_Functional_Study/RawData/PUPIL_11_S02',\n",
       " '/home/public/LC_Leiden/LC_Functional_Study/RawData/PUPIL_p05_S02',\n",
       " '/home/public/LC_Leiden/LC_Functional_Study/RawData/PUPIL_03_S02',\n",
       " '/home/public/LC_Leiden/LC_Functional_Study/RawData/PUPIL_06_S02',\n",
       " '/home/public/LC_Leiden/LC_Functional_Study/RawData/PUPIL_16_S02',\n",
       " '/home/public/LC_Leiden/LC_Functional_Study/RawData/PUPIL_04_S02',\n",
       " '/home/public/LC_Leiden/LC_Functional_Study/RawData/PUPIL_02_S02',\n",
       " '/home/public/LC_Leiden/LC_Functional_Study/RawData/PUPIL_09_S02',\n",
       " '/home/public/LC_Leiden/LC_Functional_Study/RawData/PUPIL_07_S02',\n",
       " '/home/public/LC_Leiden/LC_Functional_Study/RawData/PUPIL_01_S02',\n",
       " '/home/public/LC_Leiden/LC_Functional_Study/RawData/PUPIL_13_S02',\n",
       " '/home/public/LC_Leiden/LC_Functional_Study/RawData/PUPIL_08_S02']"
      ]
     },
     "execution_count": 3,
     "metadata": {},
     "output_type": "execute_result"
    }
   ],
   "source": [
    "glob.glob('/home/public/LC_Leiden/LC_Functional_Study/RawData/*')"
   ]
  },
  {
   "cell_type": "code",
   "execution_count": 6,
   "metadata": {
    "collapsed": true
   },
   "outputs": [],
   "source": [
    "import shutil\n",
    "import os"
   ]
  },
  {
   "cell_type": "code",
   "execution_count": 22,
   "metadata": {
    "collapsed": true
   },
   "outputs": [],
   "source": [
    "from nipype.utils.filemanip import split_filename"
   ]
  },
  {
   "cell_type": "code",
   "execution_count": 33,
   "metadata": {
    "collapsed": false
   },
   "outputs": [
    {
     "name": "stdout",
     "output_type": "stream",
     "text": [
      "/usr/local/lib/python2.7/dist-packages/nibabel/parrec.py:407: UserWarning: Header inconsistency: Found 495 dynamic scan values, but expected 746\n",
      "  warnings.warn(msg)\n",
      "/usr/local/lib/python2.7/dist-packages/nibabel/parrec.py:407: UserWarning: Found one or more partial volume(s)\n",
      "  warnings.warn(msg)\n",
      "/usr/local/lib/python2.7/dist-packages/nibabel/parrec.py:407: UserWarning: Header inconsistency: Found 413 dynamic scan values, but expected 746\n",
      "  warnings.warn(msg)\n",
      "/usr/local/lib/python2.7/dist-packages/nibabel/parrec.py:407: UserWarning: Found one or more partial volume(s)\n",
      "  warnings.warn(msg)\n",
      "/usr/local/lib/python2.7/dist-packages/nibabel/parrec.py:407: UserWarning: Header inconsistency: Found 2486 dynamic scan values, but expected 2500\n",
      "  warnings.warn(msg)\n",
      "/usr/local/lib/python2.7/dist-packages/nibabel/parrec.py:407: UserWarning: Found one or more partial volume(s)\n",
      "  warnings.warn(msg)\n",
      "/usr/local/lib/python2.7/dist-packages/nibabel/parrec.py:407: UserWarning: Header inconsistency: Found 497 dynamic scan values, but expected 746\n",
      "  warnings.warn(msg)\n",
      "/usr/local/lib/python2.7/dist-packages/nibabel/parrec.py:407: UserWarning: Found one or more partial volume(s)\n",
      "  warnings.warn(msg)\n",
      "/usr/local/lib/python2.7/dist-packages/nibabel/parrec.py:407: UserWarning: Header inconsistency: Found 415 dynamic scan values, but expected 746\n",
      "  warnings.warn(msg)\n",
      "/usr/local/lib/python2.7/dist-packages/nibabel/parrec.py:407: UserWarning: Found one or more partial volume(s)\n",
      "  warnings.warn(msg)\n",
      "/usr/local/lib/python2.7/dist-packages/nibabel/parrec.py:407: UserWarning: Header inconsistency: Found 537 dynamic scan values, but expected 746\n",
      "  warnings.warn(msg)\n",
      "/usr/local/lib/python2.7/dist-packages/nibabel/parrec.py:407: UserWarning: Found one or more partial volume(s)\n",
      "  warnings.warn(msg)\n",
      "/usr/local/lib/python2.7/dist-packages/nibabel/parrec.py:407: UserWarning: Header inconsistency: Found 411 dynamic scan values, but expected 746\n",
      "  warnings.warn(msg)\n",
      "/usr/local/lib/python2.7/dist-packages/nibabel/parrec.py:407: UserWarning: Found one or more partial volume(s)\n",
      "  warnings.warn(msg)\n",
      "/usr/local/lib/python2.7/dist-packages/nibabel/parrec.py:407: UserWarning: Header inconsistency: Found 496 dynamic scan values, but expected 746\n",
      "  warnings.warn(msg)\n",
      "/usr/local/lib/python2.7/dist-packages/nibabel/parrec.py:407: UserWarning: Found one or more partial volume(s)\n",
      "  warnings.warn(msg)\n",
      "/usr/local/lib/python2.7/dist-packages/nibabel/parrec.py:407: UserWarning: Header inconsistency: Found 415 dynamic scan values, but expected 746\n",
      "  warnings.warn(msg)\n",
      "/usr/local/lib/python2.7/dist-packages/nibabel/parrec.py:407: UserWarning: Found one or more partial volume(s)\n",
      "  warnings.warn(msg)\n",
      "/usr/local/lib/python2.7/dist-packages/nibabel/parrec.py:407: UserWarning: Header inconsistency: Found 2491 dynamic scan values, but expected 2500\n",
      "  warnings.warn(msg)\n",
      "/usr/local/lib/python2.7/dist-packages/nibabel/parrec.py:407: UserWarning: Found one or more partial volume(s)\n",
      "  warnings.warn(msg)\n",
      "/usr/local/lib/python2.7/dist-packages/nibabel/parrec.py:407: UserWarning: Header inconsistency: Found 495 dynamic scan values, but expected 746\n",
      "  warnings.warn(msg)\n",
      "/usr/local/lib/python2.7/dist-packages/nibabel/parrec.py:407: UserWarning: Found one or more partial volume(s)\n",
      "  warnings.warn(msg)\n",
      "/usr/local/lib/python2.7/dist-packages/nibabel/parrec.py:407: UserWarning: Header inconsistency: Found 415 dynamic scan values, but expected 746\n",
      "  warnings.warn(msg)\n",
      "/usr/local/lib/python2.7/dist-packages/nibabel/parrec.py:407: UserWarning: Found one or more partial volume(s)\n",
      "  warnings.warn(msg)\n",
      "/usr/local/lib/python2.7/dist-packages/nibabel/parrec.py:407: UserWarning: Header inconsistency: Found 2475 dynamic scan values, but expected 2500\n",
      "  warnings.warn(msg)\n",
      "/usr/local/lib/python2.7/dist-packages/nibabel/parrec.py:407: UserWarning: Found one or more partial volume(s)\n",
      "  warnings.warn(msg)\n",
      "/usr/local/lib/python2.7/dist-packages/nibabel/parrec.py:407: UserWarning: Header inconsistency: Found 496 dynamic scan values, but expected 746\n",
      "  warnings.warn(msg)\n",
      "/usr/local/lib/python2.7/dist-packages/nibabel/parrec.py:407: UserWarning: Header inconsistency: Found 413 dynamic scan values, but expected 746\n",
      "  warnings.warn(msg)\n",
      "/usr/local/lib/python2.7/dist-packages/nibabel/parrec.py:407: UserWarning: Found one or more partial volume(s)\n",
      "  warnings.warn(msg)\n",
      "/usr/local/lib/python2.7/dist-packages/nibabel/parrec.py:407: UserWarning: Header inconsistency: Found 2317 dynamic scan values, but expected 2500\n",
      "  warnings.warn(msg)\n",
      "/usr/local/lib/python2.7/dist-packages/nibabel/parrec.py:407: UserWarning: Found one or more partial volume(s)\n",
      "  warnings.warn(msg)\n",
      "/usr/local/lib/python2.7/dist-packages/nibabel/parrec.py:407: UserWarning: Header inconsistency: Found 496 dynamic scan values, but expected 746\n",
      "  warnings.warn(msg)\n",
      "/usr/local/lib/python2.7/dist-packages/nibabel/parrec.py:407: UserWarning: Found one or more partial volume(s)\n",
      "  warnings.warn(msg)\n",
      "/usr/local/lib/python2.7/dist-packages/nibabel/parrec.py:407: UserWarning: Header inconsistency: Found 414 dynamic scan values, but expected 746\n",
      "  warnings.warn(msg)\n",
      "/usr/local/lib/python2.7/dist-packages/nibabel/parrec.py:407: UserWarning: Found one or more partial volume(s)\n",
      "  warnings.warn(msg)\n",
      "/usr/local/lib/python2.7/dist-packages/nibabel/parrec.py:407: UserWarning: Header inconsistency: Found 1574 dynamic scan values, but expected 2500\n",
      "  warnings.warn(msg)\n",
      "/usr/local/lib/python2.7/dist-packages/nibabel/parrec.py:407: UserWarning: Found one or more partial volume(s)\n",
      "  warnings.warn(msg)\n",
      "/usr/local/lib/python2.7/dist-packages/nibabel/parrec.py:407: UserWarning: Header inconsistency: Found 500 dynamic scan values, but expected 746\n",
      "  warnings.warn(msg)\n",
      "/usr/local/lib/python2.7/dist-packages/nibabel/parrec.py:407: UserWarning: Found one or more partial volume(s)\n",
      "  warnings.warn(msg)\n",
      "/usr/local/lib/python2.7/dist-packages/nibabel/parrec.py:407: UserWarning: Header inconsistency: Found 496 dynamic scan values, but expected 746\n",
      "  warnings.warn(msg)\n",
      "/usr/local/lib/python2.7/dist-packages/nibabel/parrec.py:407: UserWarning: Found one or more partial volume(s)\n",
      "  warnings.warn(msg)\n",
      "/usr/local/lib/python2.7/dist-packages/nibabel/parrec.py:407: UserWarning: Header inconsistency: Found 2480 dynamic scan values, but expected 2500\n",
      "  warnings.warn(msg)\n",
      "/usr/local/lib/python2.7/dist-packages/nibabel/parrec.py:407: UserWarning: Found one or more partial volume(s)\n",
      "  warnings.warn(msg)\n",
      "/usr/local/lib/python2.7/dist-packages/nibabel/parrec.py:407: UserWarning: Header inconsistency: Found 500 dynamic scan values, but expected 746\n",
      "  warnings.warn(msg)\n",
      "/usr/local/lib/python2.7/dist-packages/nibabel/parrec.py:407: UserWarning: Found one or more partial volume(s)\n",
      "  warnings.warn(msg)\n",
      "/usr/local/lib/python2.7/dist-packages/nibabel/parrec.py:407: UserWarning: Header inconsistency: Found 417 dynamic scan values, but expected 746\n",
      "  warnings.warn(msg)\n",
      "/usr/local/lib/python2.7/dist-packages/nibabel/parrec.py:407: UserWarning: Found one or more partial volume(s)\n",
      "  warnings.warn(msg)\n",
      "/usr/local/lib/python2.7/dist-packages/nibabel/parrec.py:407: UserWarning: Header inconsistency: Found 2486 dynamic scan values, but expected 2500\n",
      "  warnings.warn(msg)\n",
      "/usr/local/lib/python2.7/dist-packages/nibabel/parrec.py:407: UserWarning: Found one or more partial volume(s)\n",
      "  warnings.warn(msg)\n",
      "/usr/local/lib/python2.7/dist-packages/nibabel/parrec.py:407: UserWarning: Header inconsistency: Found 496 dynamic scan values, but expected 746\n",
      "  warnings.warn(msg)\n",
      "/usr/local/lib/python2.7/dist-packages/nibabel/parrec.py:407: UserWarning: Found one or more partial volume(s)\n",
      "  warnings.warn(msg)\n",
      "/usr/local/lib/python2.7/dist-packages/nibabel/parrec.py:407: UserWarning: Header inconsistency: Found 417 dynamic scan values, but expected 746\n",
      "  warnings.warn(msg)\n",
      "/usr/local/lib/python2.7/dist-packages/nibabel/parrec.py:407: UserWarning: Found one or more partial volume(s)\n",
      "  warnings.warn(msg)\n",
      "/usr/local/lib/python2.7/dist-packages/nibabel/parrec.py:407: UserWarning: Header inconsistency: Found 2487 dynamic scan values, but expected 2500\n",
      "  warnings.warn(msg)\n",
      "/usr/local/lib/python2.7/dist-packages/nibabel/parrec.py:407: UserWarning: Header inconsistency: Found 497 dynamic scan values, but expected 746\n",
      "  warnings.warn(msg)\n",
      "/usr/local/lib/python2.7/dist-packages/nibabel/parrec.py:407: UserWarning: Found one or more partial volume(s)\n",
      "  warnings.warn(msg)\n",
      "/usr/local/lib/python2.7/dist-packages/nibabel/parrec.py:407: UserWarning: Header inconsistency: Found 415 dynamic scan values, but expected 746\n",
      "  warnings.warn(msg)\n",
      "/usr/local/lib/python2.7/dist-packages/nibabel/parrec.py:407: UserWarning: Found one or more partial volume(s)\n",
      "  warnings.warn(msg)\n",
      "Caught 1 exceptions. Dump follows:\n",
      "\n",
      " /home/public/LC_Leiden/LC_Functional_Study/RawData/PUPIL_13_S02/fMRI/Pupil013^^^^_WIP_taak3_SENSE_12_1.PAR: 'max_slices'\n",
      "mv: cannot stat `tmp/Pupil013^^^^_WIP_taak3_SENSE_12_1.nii.gz': No such file or directory\n",
      "/usr/local/lib/python2.7/dist-packages/nibabel/parrec.py:407: UserWarning: Header inconsistency: Found 495 dynamic scan values, but expected 746\n",
      "  warnings.warn(msg)\n",
      "/usr/local/lib/python2.7/dist-packages/nibabel/parrec.py:407: UserWarning: Header inconsistency: Found 415 dynamic scan values, but expected 746\n",
      "  warnings.warn(msg)\n",
      "/usr/local/lib/python2.7/dist-packages/nibabel/parrec.py:407: UserWarning: Found one or more partial volume(s)\n",
      "  warnings.warn(msg)\n",
      "/usr/local/lib/python2.7/dist-packages/nibabel/parrec.py:407: UserWarning: Found one or more partial volume(s)\n",
      "  warnings.warn(msg)\n"
     ]
    }
   ],
   "source": [
    "import re\n",
    "\n",
    "reg = re.compile('.*/PUPIL_([0-9]+)_S02')\n",
    "\n",
    "for fn in glob.glob('/home/public/LC_Leiden/LC_Functional_Study/RawData/*'):\n",
    "    subject_id = int(reg.match(fn).group(1))\n",
    "    \n",
    "    d = '/home/gdholla1/data/daphne/clean/S%02d' % subject_id\n",
    "    \n",
    "    if not os.path.exists(d):\n",
    "        os.makedirs(d)\n",
    "        \n",
    "    sid3 = '%03d' % subject_id\n",
    "        \n",
    "    whole_brain_epi = filter(lambda x: 'whole_brain_fMRI' in x, glob.glob('%s/fMRI/*.PAR' % fn))\n",
    "    assert(len(whole_brain_epi) == 1)\n",
    "    whole_brain_epi = whole_brain_epi[0]\n",
    "        \n",
    "    !parrec2nii $whole_brain_epi --overwrite --compressed -p -o tmp\n",
    "    _, whole_brain_epi, _ = split_filename(whole_brain_epi)\n",
    "    !mv tmp/$whole_brain_epi\\.nii.gz $d/whole_brain_epi.nii.gz\n",
    "        \n",
    "    for run in [1,2,3]:\n",
    "        run_file = filter(lambda x: 'taak%d' % run in x, glob.glob('%s/fMRI/*.PAR' % fn))\n",
    "        assert(len(run_file) == 1)\n",
    "        run_file = run_file[0]\n",
    "\n",
    "        !parrec2nii $run_file --overwrite --compressed -p -o tmp\n",
    "        _, run_file, _ = split_filename(run_file)\n",
    "        !mv tmp/$run_file\\.nii.gz $d/run$run\\.nii.gz\n",
    "\n"
   ]
  },
  {
   "cell_type": "code",
   "execution_count": 40,
   "metadata": {
    "collapsed": false
   },
   "outputs": [],
   "source": [
    "import pandas\n",
    "import nibabel as nb\n",
    "\n",
    "df = []\n",
    "\n",
    "reg = re.compile('.*/S(?P<subject_id>[0-9]+)/run(?P<run>[0-9])\\.nii\\.gz')\n",
    "\n",
    "for fn in glob.glob('/home/gdholla1/data/daphne/clean/*/run*.nii.gz'):\n",
    "    df.append(reg.match(fn).groupdict())\n",
    "    df[-1]['x'], df[-1]['y'], df[-1]['z'], df[-1]['n']  = nb.load(fn).shape\n",
    "    \n",
    "df = pandas.DataFrame(df)"
   ]
  },
  {
   "cell_type": "code",
   "execution_count": 53,
   "metadata": {
    "collapsed": false
   },
   "outputs": [],
   "source": [
    "import re\n",
    "\n",
    "reg = re.compile('.*/PUPIL_([0-9]+)_S02')\n",
    "\n",
    "for fn in glob.glob('/home/public/LC_Leiden/LC_Functional_Study/RawData/*'):\n",
    "    subject_id = int(reg.match(fn).group(1))\n",
    "    \n",
    "    d = '/home/gdholla1/data/daphne/clean/S%02d' % subject_id\n",
    "    \n",
    "    if not os.path.exists(d):\n",
    "        os.makedirs(d)\n",
    "        \n",
    "    sid3 = '%03d' % subject_id\n",
    "        \n",
    "    tse = filter(lambda x: 'TSE' in x, glob.glob('%s/fMRI/*.PAR' % fn))\n",
    "    \n",
    "    assert(len(tse) == 1)\n",
    "    tse = tse[0]\n",
    "    \n",
    "    !parrec2nii $tse --overwrite --compressed -p -o tmp\n",
    "    _, tse, _ = split_filename(tse)\n",
    "    !mv tmp/$tse\\.nii.gz $d/tse.nii.gz"
   ]
  },
  {
   "cell_type": "code",
   "execution_count": 59,
   "metadata": {
    "collapsed": false
   },
   "outputs": [],
   "source": [
    "import re\n",
    "\n",
    "reg = re.compile('.*/PUPIL_([0-9]+)_S02')\n",
    "\n",
    "for fn in glob.glob('/home/public/LC_Leiden/LC_Functional_Study/RawData/*'):\n",
    "    subject_id = int(reg.match(fn).group(1))\n",
    "    \n",
    "    d = '/home/gdholla1/data/daphne/clean/S%02d' % subject_id\n",
    "    \n",
    "    if not os.path.exists(d):\n",
    "        os.makedirs(d)\n",
    "        \n",
    "    sid3 = '%03d' % subject_id\n",
    "        \n",
    "    t1 = filter(lambda x: '_4_1' in x, glob.glob('%s/fMRI/*.PAR' % fn))\n",
    "    \n",
    "    assert(len(t1) == 1)\n",
    "    t1 = t1[0]\n",
    "    \n",
    "    !parrec2nii $t1 --overwrite --compressed -p -o tmp\n",
    "    _, t1, _ = split_filename(t1)\n",
    "    !mv tmp/$t1\\.nii.gz $d/t1.nii.gz"
   ]
  },
  {
   "cell_type": "markdown",
   "metadata": {},
   "source": [
    "Taak 1: 5\n",
    "\n",
    "Taak 2: 6"
   ]
  },
  {
   "cell_type": "code",
   "execution_count": 73,
   "metadata": {
    "collapsed": true
   },
   "outputs": [],
   "source": [
    "reg = re.compile('.*/.*taak[0-9]_SENSE_([0-9]+)_1.PAR')"
   ]
  },
  {
   "cell_type": "code",
   "execution_count": 134,
   "metadata": {
    "collapsed": false
   },
   "outputs": [
    {
     "name": "stdout",
     "output_type": "stream",
     "text": [
      "07 12\n",
      "-rw-rw-r-- 1 daphne1 cdrom 56M May 16 21:46 /home/public/LC_Leiden/LC_Functional_Study/RawData/PUPIL_07_S02/PHYSLOG/SCANPHYSLOG20140627204140.log\n",
      "04 13\n",
      "-rw-rw-r-- 1 daphne1 cdrom 52M May 16 17:13 /home/public/LC_Leiden/LC_Functional_Study/RawData/PUPIL_04_S02/PHYSLOG/SCANPHYSLOG20140520205417.log\n",
      "05 11\n",
      "-rw-rw-r-- 1 daphne1 cdrom 21M May 17 10:46 /home/public/LC_Leiden/LC_Functional_Study/RawData/PUPIL_05_S02/PHYSLOG/SCANPHYSLOG20140517205319.log\n",
      "13 12\n",
      "-rw-rw-r-- 1 daphne1 cdrom 50M May 17 10:32 /home/public/LC_Leiden/LC_Functional_Study/RawData/PUPIL_13_S02/PHYSLOG/SCANPHYSLOG20140606212658.log\n",
      "08 11\n",
      "-rw-rw-r-- 1 daphne1 cdrom 56M May 17 10:03 /home/public/LC_Leiden/LC_Functional_Study/RawData/PUPIL_08_S02/PHYSLOG/SCANPHYSLOG20140711174655.log\n",
      "11 12\n",
      "-rw-rw-r-- 1 daphne1 cdrom 56M May 17 10:28 /home/public/LC_Leiden/LC_Functional_Study/RawData/PUPIL_11_S02/PHYSLOG/SCANPHYSLOG20140731182101.log\n",
      "06 11\n",
      "-rw-rw-r-- 1 daphne1 cdrom 57M May 16 21:46 /home/public/LC_Leiden/LC_Functional_Study/RawData/PUPIL_06_S02/PHYSLOG/SCANPHYSLOG20140704173426.log\n",
      "03 11\n",
      "-rw-rw-r-- 1 daphne1 cdrom 59M May 16 17:05 /home/public/LC_Leiden/LC_Functional_Study/RawData/PUPIL_03_S02/PHYSLOG/SCANPHYSLOG20140518194732.log\n",
      "01 11\n",
      "-rw-rw-r-- 1 daphne1 cdrom 55M May 16 16:52 /home/public/LC_Leiden/LC_Functional_Study/RawData/PUPIL_01_S02/PHYSLOG/SCANPHYSLOG20140604205116.log\n",
      "02 15\n",
      "-rw-rw-r-- 1 daphne1 cdrom 36M May 16 16:59 /home/public/LC_Leiden/LC_Functional_Study/RawData/PUPIL_02_S02/PHYSLOG/SCANPHYSLOG20140606184950.log\n",
      "16 12\n",
      "-rw-rw-r-- 1 daphne1 cdrom 56M May 17 10:40 /home/public/LC_Leiden/LC_Functional_Study/RawData/PUPIL_16_S02/PHYSLOG/SCANPHYSLOG20140725184648.log\n",
      "09 11\n",
      "-rw-rw-r-- 1 daphne1 cdrom 56M May 17 10:12 /home/public/LC_Leiden/LC_Functional_Study/RawData/PUPIL_09_S02/PHYSLOG/SCANPHYSLOG20140717153812.log\n"
     ]
    }
   ],
   "source": [
    "subject_ids = [fn.split('/')[-1][1:] for fn in glob.glob('/home/gdholla1/data/daphne/clean/*')]\n",
    "# subject_ids.pop(subject_ids.index('05'))\n",
    "# subject_ids.pop(subject_ids.index('13'))\n",
    "\n",
    "# subject_ids = ['04']\n",
    "\n",
    "for subject_id in subject_ids:\n",
    "    logfiles = sorted(glob.glob('/home/public/LC_Leiden/LC_Functional_Study/RawData/PUPIL_{}_S02/PHYSLOG/*.log'.format(subject_id)))\n",
    "    print subject_id, len(logfiles)\n",
    "    for fn in sorted(glob.glob('/home/public/LC_Leiden/LC_Functional_Study/RawData/PUPIL_{}_S02/fMRI/*.PAR'.format(subject_id))):\n",
    "        \n",
    "        if 'taak1' in fn:\n",
    "            run = 1\n",
    "            n = int(reg.match(fn).group(1))\n",
    "#             print 'taak1', n  \n",
    "            src = logfiles[n-1]\n",
    "#             !ls -lrth $src\n",
    "\n",
    "        if 'taak2' in fn:\n",
    "            run = 2\n",
    "            n = int(reg.match(fn).group(1))\n",
    "#             print 'taak2', n\n",
    "            src = logfiles[n-1]\n",
    "#             !ls -lrth $src            \n",
    "            \n",
    "        if 'taak3' in fn:\n",
    "            run = 3\n",
    "            if subject_id == '04':\n",
    "                src = logfiles[-2]\n",
    "            else:\n",
    "                src = logfiles[-1]\n",
    "            !ls -lrth $src\n",
    "        \n",
    "        shutil.copy(src, '/home/gdholla1/data/daphne/clean/S{subject_id}/run{run}.log'.format(**locals()))\n",
    "        \n",
    "    "
   ]
  },
  {
   "cell_type": "markdown",
   "metadata": {
    "collapsed": true
   },
   "source": [
    "# Masks"
   ]
  },
  {
   "cell_type": "code",
   "execution_count": 140,
   "metadata": {
    "collapsed": true
   },
   "outputs": [],
   "source": [
    "subject_ids = [fn.split('/')[-1][1:] for fn in glob.glob('/home/gdholla1/data/daphne/clean/*')]\n",
    "masks = ['LC_L', 'LC_R']"
   ]
  },
  {
   "cell_type": "code",
   "execution_count": 141,
   "metadata": {
    "collapsed": true
   },
   "outputs": [],
   "source": [
    "import shutil"
   ]
  },
  {
   "cell_type": "code",
   "execution_count": 145,
   "metadata": {
    "collapsed": false
   },
   "outputs": [],
   "source": [
    "import itertools\n",
    "\n",
    "for subject_id, mask in itertools.product(subject_ids, masks):\n",
    "    d = '/home/gdholla1/data/daphne/masks/tse_space/S{}'.format(subject_id)\n",
    "    if not os.path.exists(d):\n",
    "        os.makedirs(d)\n",
    "        \n",
    "    \n",
    "    disjunct = '/home/public/LC_Leiden/Masks/Interrater_KDT_MCK/pp{subject_id}_S2_TSE_{mask}_SHORT_KDT_bin_bothraters_second-seg.nii.gz'.format(**locals())\n",
    "    conjunct = '/home/public/LC_Leiden/Masks/Interrater_KDT_MCK/pp{subject_id}_S2_TSE_{mask}_SHORT_bothraters_second-seg_conjunction.nii.gz'.format(**locals())\n",
    "    \n",
    "    assert(os.path.exists(disjunct))\n",
    "    assert(os.path.exists(conjunct))\n",
    "    \n",
    "    shutil.copy(disjunct, os.path.join(d, '{}_disjunct.nii.gz'.format(mask)))\n",
    "    shutil.copy(conjunct, os.path.join(d, '{}_conjunct.nii.gz'.format(mask)))\n",
    "                                                                                                                                                    "
   ]
  },
  {
   "cell_type": "code",
   "execution_count": null,
   "metadata": {
    "collapsed": true
   },
   "outputs": [],
   "source": [
    "/home/public/LC_Leiden/Masks/Interrater_KDT_MCK/pp02_S2_TSE_LC_L_SHORT_KDT_bin_bothraters_second-seg.nii.gz\n",
    "/home/public/LC_Leiden/Masks/Interrater_KDT_MCK/pp02_S2_TSE_LC_L_SHORT_bothraters_second-seg_conjunction.nii.gz"
   ]
  },
  {
   "cell_type": "markdown",
   "metadata": {},
   "source": [
    "## Warp fields"
   ]
  },
  {
   "cell_type": "code",
   "execution_count": 148,
   "metadata": {
    "collapsed": false
   },
   "outputs": [
    {
     "data": {
      "text/plain": [
       "['00', '07', '04', '13', '08', '11', '06', '03', '01', '02', '16', '09']"
      ]
     },
     "execution_count": 148,
     "metadata": {},
     "output_type": "execute_result"
    }
   ],
   "source": [
    "subject_ids"
   ]
  },
  {
   "cell_type": "code",
   "execution_count": 151,
   "metadata": {
    "collapsed": false
   },
   "outputs": [],
   "source": [
    "for subject_id in subject_ids:\n",
    "    \n",
    "    \n",
    "    mat = '/home/public/LC_Leiden/MRI_DATA/TSE_slab/registered_2_whole_brain/pp%s_S2.nii_2_wb' % subject_id\n",
    "    warp = '/home/public/LC_Leiden/MRI_DATA/TSE_slab/registered_2_whole_brain/pp%s_S2_warpcoef.nii.gz' % subject_id\n",
    "    shutil.copy(mat, '/home/gdholla1/data/daphne/registration_max/tse2t1_weighted/mats/S%s.mat' % subject_id)\n",
    "    shutil.copy(warp, '/home/gdholla1/data/daphne/registration_max/tse2t1_weighted/warps/S%s.nii.gz' % subject_id)\n",
    "    "
   ]
  },
  {
   "cell_type": "code",
   "execution_count": null,
   "metadata": {
    "collapsed": true
   },
   "outputs": [],
   "source": [
    "'/home/public/LC_Leiden/MRI_DATA/TSE_slab/registered_2_whole_brain/pp00_"
   ]
  }
 ],
 "metadata": {
  "kernelspec": {
   "display_name": "Python 2",
   "language": "python",
   "name": "python2"
  },
  "language_info": {
   "codemirror_mode": {
    "name": "ipython",
    "version": 2
   },
   "file_extension": ".py",
   "mimetype": "text/x-python",
   "name": "python",
   "nbconvert_exporter": "python",
   "pygments_lexer": "ipython2",
   "version": "2.7.3"
  }
 },
 "nbformat": 4,
 "nbformat_minor": 0
}
