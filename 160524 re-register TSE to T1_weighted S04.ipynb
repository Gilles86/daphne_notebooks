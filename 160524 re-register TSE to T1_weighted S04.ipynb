{
 "cells": [
  {
   "cell_type": "code",
   "execution_count": 1,
   "metadata": {
    "collapsed": true
   },
   "outputs": [],
   "source": [
    "import nipype.interfaces.fsl as fsl"
   ]
  },
  {
   "cell_type": "code",
   "execution_count": 2,
   "metadata": {
    "collapsed": true
   },
   "outputs": [],
   "source": [
    "flirt = fsl.FLIRT()"
   ]
  },
  {
   "cell_type": "code",
   "execution_count": 5,
   "metadata": {
    "collapsed": false
   },
   "outputs": [],
   "source": [
    "flirt.inputs.in_file = '/home/gdholla1/data/daphne/clean/S04/tse.nii.gz'\n",
    "flirt.inputs.reference = '/home/gdholla1/data/daphne/clean/S04/t1.nii.gz'\n",
    "\n",
    "flirt.inputs.searchr_x = [-10, 10]\n",
    "flirt.inputs.searchr_y = [-10, 10]\n",
    "flirt.inputs.searchr_z = [-10, 10]\n",
    "\n",
    "r = flirt.run()"
   ]
  },
  {
   "cell_type": "code",
   "execution_count": 6,
   "metadata": {
    "collapsed": false
   },
   "outputs": [
    {
     "data": {
      "text/plain": [
       "\n",
       "out_file = /home/gdholla1/notebooks/2016_daphne/tse_flirt.nii.gz\n",
       "out_log = /home/gdholla1/notebooks/2016_daphne/tse_flirt.log\n",
       "out_matrix_file = /home/gdholla1/notebooks/2016_daphne/tse_flirt.mat"
      ]
     },
     "execution_count": 6,
     "metadata": {},
     "output_type": "execute_result"
    }
   ],
   "source": [
    "r.outputs"
   ]
  },
  {
   "cell_type": "code",
   "execution_count": 7,
   "metadata": {
    "collapsed": false
   },
   "outputs": [
    {
     "name": "stdout",
     "output_type": "stream",
     "text": [
      "/home/public/LC_Leiden/Masks/Interrater_KDT_MCK/second_segmentation/pp00_S1_TSE_LC_L_SHORT_bothraters_second-seg_conjunction.nii.gz_directly_to_wb.nii.gz_directly_to_MNI_nonlinear.nii.gz\r\n",
      "/home/public/LC_Leiden/Masks/Interrater_KDT_MCK/second_segmentation/pp01_S1_TSE_LC_L_SHORT_bothraters_second-seg_conjunction.nii.gz_directly_to_wb.nii.gz_directly_to_MNI_nonlinear.nii.gz\r\n",
      "/home/public/LC_Leiden/Masks/Interrater_KDT_MCK/second_segmentation/pp02_S1_TSE_LC_L_SHORT_bothraters_second-seg_conjunction.nii.gz_directly_to_wb.nii.gz_directly_to_MNI_nonlinear.nii.gz\r\n",
      "/home/public/LC_Leiden/Masks/Interrater_KDT_MCK/second_segmentation/pp03_S1_TSE_LC_L_SHORT_bothraters_second-seg_conjunction.nii.gz_directly_to_wb.nii.gz_directly_to_MNI_nonlinear.nii.gz\r\n",
      "/home/public/LC_Leiden/Masks/Interrater_KDT_MCK/second_segmentation/pp04_S1_TSE_LC_L_SHORT_bothraters_second-seg_conjunction.nii.gz_directly_to_wb.nii.gz_directly_to_MNI_nonlinear.nii.gz\r\n",
      "/home/public/LC_Leiden/Masks/Interrater_KDT_MCK/second_segmentation/pp06_S1_TSE_LC_L_SHORT_bothraters_second-seg_conjunction.nii.gz_directly_to_wb.nii.gz_directly_to_MNI_nonlinear.nii.gz\r\n",
      "/home/public/LC_Leiden/Masks/Interrater_KDT_MCK/second_segmentation/pp07_S1_TSE_LC_L_SHORT_bothraters_second-seg_conjunction.nii.gz_directly_to_wb.nii.gz_directly_to_MNI_nonlinear.nii.gz\r\n",
      "/home/public/LC_Leiden/Masks/Interrater_KDT_MCK/second_segmentation/pp08_S1_TSE_LC_L_SHORT_bothraters_second-seg_conjunction.nii.gz_directly_to_wb.nii.gz_directly_to_MNI_nonlinear.nii.gz\r\n",
      "/home/public/LC_Leiden/Masks/Interrater_KDT_MCK/second_segmentation/pp09_S1_TSE_LC_L_SHORT_bothraters_second-seg_conjunction.nii.gz_directly_to_wb.nii.gz_directly_to_MNI_nonlinear.nii.gz\r\n",
      "/home/public/LC_Leiden/Masks/Interrater_KDT_MCK/second_segmentation/pp11_S1_TSE_LC_L_SHORT_bothraters_second-seg_conjunction.nii.gz_directly_to_wb.nii.gz_directly_to_MNI_nonlinear.nii.gz\r\n",
      "/home/public/LC_Leiden/Masks/Interrater_KDT_MCK/second_segmentation/pp13_S1_TSE_LC_L_SHORT_bothraters_second-seg_conjunction.nii.gz_directly_to_wb.nii.gz_directly_to_MNI_nonlinear.nii.gz\r\n",
      "/home/public/LC_Leiden/Masks/Interrater_KDT_MCK/second_segmentation/pp15_S1_TSE_LC_L_SHORT_bothraters_second-seg_conjunction.nii.gz_directly_to_wb.nii.gz_directly_to_MNI_nonlinear.nii.gz\r\n",
      "/home/public/LC_Leiden/Masks/Interrater_KDT_MCK/second_segmentation/pp16_S1_TSE_LC_L_SHORT_bothraters_second-seg_conjunction.nii.gz_directly_to_wb.nii.gz_directly_to_MNI_nonlinear.nii.gz\r\n",
      "/home/public/LC_Leiden/Masks/Interrater_KDT_MCK/second_segmentation/pp17_S1_TSE_LC_L_SHORT_bothraters_second-seg_conjunction.nii.gz_directly_to_wb.nii.gz_directly_to_MNI_nonlinear.nii.gz\r\n",
      "/home/public/LC_Leiden/Masks/Interrater_KDT_MCK/second_segmentation/pp18_S1_TSE_LC_L_SHORT_bothraters_second-seg_conjunction.nii.gz_directly_to_wb.nii.gz_directly_to_MNI_nonlinear.nii.gz\r\n",
      "/home/public/LC_Leiden/Masks/Interrater_KDT_MCK/second_segmentation/pp19_S1_TSE_LC_L_SHORT_bothraters_second-seg_conjunction.nii.gz_directly_to_wb.nii.gz_directly_to_MNI_nonlinear.nii.gz\r\n",
      "/home/public/LC_Leiden/Masks/Interrater_KDT_MCK/second_segmentation/pp20_S1_TSE_LC_L_SHORT_bothraters_second-seg_conjunction.nii.gz_directly_to_wb.nii.gz_directly_to_MNI_nonlinear.nii.gz\r\n"
     ]
    }
   ],
   "source": [
    "/home/public/LC_Leiden/Masks/Interrater_KDT_MCK/"
   ]
  },
  {
   "cell_type": "code",
   "execution_count": 3,
   "metadata": {
    "collapsed": false
   },
   "outputs": [
    {
     "data": {
      "text/plain": [
       "\n",
       "angle_rep = <undefined>\n",
       "apply_isoxfm = <undefined>\n",
       "apply_xfm = <undefined>\n",
       "args = <undefined>\n",
       "bbrslope = <undefined>\n",
       "bbrtype = <undefined>\n",
       "bgvalue = <undefined>\n",
       "bins = <undefined>\n",
       "coarse_search = <undefined>\n",
       "cost = <undefined>\n",
       "cost_func = <undefined>\n",
       "datatype = <undefined>\n",
       "display_init = <undefined>\n",
       "dof = <undefined>\n",
       "echospacing = <undefined>\n",
       "environ = {'FSLOUTPUTTYPE': 'NIFTI_GZ'}\n",
       "fieldmap = <undefined>\n",
       "fieldmapmask = <undefined>\n",
       "fine_search = <undefined>\n",
       "force_scaling = <undefined>\n",
       "ignore_exception = False\n",
       "in_file = <undefined>\n",
       "in_matrix_file = <undefined>\n",
       "in_weight = <undefined>\n",
       "interp = <undefined>\n",
       "min_sampling = <undefined>\n",
       "no_clamp = <undefined>\n",
       "no_resample = <undefined>\n",
       "no_resample_blur = <undefined>\n",
       "no_search = <undefined>\n",
       "out_file = <undefined>\n",
       "out_log = <undefined>\n",
       "out_matrix_file = <undefined>\n",
       "output_type = NIFTI_GZ\n",
       "padding_size = <undefined>\n",
       "pedir = <undefined>\n",
       "ref_weight = <undefined>\n",
       "reference = <undefined>\n",
       "rigid2D = <undefined>\n",
       "save_log = <undefined>\n",
       "schedule = <undefined>\n",
       "searchr_x = <undefined>\n",
       "searchr_y = <undefined>\n",
       "searchr_z = <undefined>\n",
       "sinc_width = <undefined>\n",
       "sinc_window = <undefined>\n",
       "terminal_output = stream\n",
       "uses_qform = <undefined>\n",
       "verbose = <undefined>\n",
       "wm_seg = <undefined>\n",
       "wmcoords = <undefined>\n",
       "wmnorms = <undefined>"
      ]
     },
     "execution_count": 3,
     "metadata": {},
     "output_type": "execute_result"
    }
   ],
   "source": [
    "flirt.inputs"
   ]
  },
  {
   "cell_type": "code",
   "execution_count": null,
   "metadata": {
    "collapsed": true
   },
   "outputs": [],
   "source": []
  }
 ],
 "metadata": {
  "kernelspec": {
   "display_name": "Python 2",
   "language": "python",
   "name": "python2"
  },
  "language_info": {
   "codemirror_mode": {
    "name": "ipython",
    "version": 2
   },
   "file_extension": ".py",
   "mimetype": "text/x-python",
   "name": "python",
   "nbconvert_exporter": "python",
   "pygments_lexer": "ipython2",
   "version": "2.7.3"
  }
 },
 "nbformat": 4,
 "nbformat_minor": 0
}
