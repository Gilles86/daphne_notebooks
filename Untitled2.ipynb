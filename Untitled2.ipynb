{
 "cells": [
  {
   "cell_type": "code",
   "execution_count": 1,
   "metadata": {
    "collapsed": false
   },
   "outputs": [],
   "source": [
    "import nipype.interfaces.fsl as fsl"
   ]
  },
  {
   "cell_type": "code",
   "execution_count": 9,
   "metadata": {
    "collapsed": false
   },
   "outputs": [],
   "source": [
    "applier = fsl.ApplyXfm()\n",
    "\n",
    "applier.inputs.in_file = '/home/gdholla1/data/daphne/preprocessed/tsnr_file/_subject_id_S02/_fwhm_0.0/_tsnr0/run1_dtype_mcf_mask_gms_tempfilt_maths_tsnr.nii.gz'\n",
    "applier.inputs.interp = 'nearestneighbour'\n",
    "applier.inputs.reference = '/home/gdholla1/data/daphne/clean/S02/t1.nii.gz'\n",
    "applier.inputs.in_matrix_file = '/home/gdholla1/workflow_folders/register_daphne/_subject_id_S02/concat_xfm/run1_dtype_mcf_mask_gms_mean_flirt_whole_brain_epi_flirt.mat'\n",
    "\n",
    "r = applier.run()"
   ]
  },
  {
   "cell_type": "code",
   "execution_count": 7,
   "metadata": {
    "collapsed": false
   },
   "outputs": [],
   "source": []
  },
  {
   "cell_type": "code",
   "execution_count": 4,
   "metadata": {
    "collapsed": false
   },
   "outputs": [
    {
     "data": {
      "text/plain": [
       "\n",
       "out_file = /home/gdholla1/notebooks/2016_daphne/run1_dtype_mcf_mask_gms_tempfilt_maths_tsnr_flirt.nii.gz\n",
       "out_log = /home/gdholla1/notebooks/2016_daphne/run1_dtype_mcf_mask_gms_tempfilt_maths_tsnr_flirt.log\n",
       "out_matrix_file = /home/gdholla1/notebooks/2016_daphne/run1_dtype_mcf_mask_gms_tempfilt_maths_tsnr_flirt.mat"
      ]
     },
     "execution_count": 4,
     "metadata": {},
     "output_type": "execute_result"
    }
   ],
   "source": [
    "r.outputs"
   ]
  },
  {
   "cell_type": "code",
   "execution_count": 6,
   "metadata": {
    "collapsed": true
   },
   "outputs": [],
   "source": [
    "reg = fsl.FLIRT()\n",
    "\n",
    "reg.inputs.in_file = '/home/gdholla1/data/daphne/preprocessed/feat_preprocess/mean/_subject_id_S01/_fwhm_0.0/run1_dtype_mcf_mask_gms_mean.nii.gz'\n",
    "reg.inputs.reference = '/home/gdholla1/data/daphne/clean/S01/whole_brain_epi.nii.gz'\n",
    "\n",
    "r = reg.run()"
   ]
  },
  {
   "cell_type": "code",
   "execution_count": 7,
   "metadata": {
    "collapsed": false
   },
   "outputs": [
    {
     "data": {
      "text/plain": [
       "\n",
       "out_file = /home/gdholla1/notebooks/2016_daphne/run1_dtype_mcf_mask_gms_mean_flirt.nii.gz\n",
       "out_log = /home/gdholla1/notebooks/2016_daphne/run1_dtype_mcf_mask_gms_mean_flirt.log\n",
       "out_matrix_file = /home/gdholla1/notebooks/2016_daphne/run1_dtype_mcf_mask_gms_mean_flirt.mat"
      ]
     },
     "execution_count": 7,
     "metadata": {},
     "output_type": "execute_result"
    }
   ],
   "source": [
    "r.outputs"
   ]
  },
  {
   "cell_type": "code",
   "execution_count": 10,
   "metadata": {
    "collapsed": true
   },
   "outputs": [],
   "source": [
    "import nipype.pipeline.engine as pe\n",
    "from nipype.interfaces import io as nio"
   ]
  },
  {
   "cell_type": "code",
   "execution_count": 13,
   "metadata": {
    "collapsed": true
   },
   "outputs": [],
   "source": [
    "import os"
   ]
  },
  {
   "cell_type": "code",
   "execution_count": 24,
   "metadata": {
    "collapsed": true
   },
   "outputs": [],
   "source": [
    "from nipype.interfaces import ants"
   ]
  },
  {
   "cell_type": "code",
   "execution_count": null,
   "metadata": {
    "collapsed": false
   },
   "outputs": [],
   "source": [
    "workflow = pe.Workflow(name='register_daphne', base_dir='/home/gdholla1/workflow_folders/')\n",
    "\n",
    "templates = {'slab_epi':'/home/gdholla1/data/daphne/preprocessed/feat_preprocess/mean/_subject_id_S{subject_id}/_fwhm_0.0/run1_dtype_mcf_mask_gms_mean.nii.gz',\n",
    "             'tse':'/home/gdholla1/data/daphne/clean/S{subject_id}/tse.nii.gz',\n",
    "             't1_weighted':'/home/gdholla1/data/daphne/clean/S{subject_id}/t1.nii.gz',\n",
    "             'whole_brain_epi':'/home/gdholla1/data/daphne/clean/S{subject_id}/whole_brain_epi.nii.gz'}\n",
    "\n",
    "\n",
    "selector = pe.Node(nio.SelectFiles(templates), name='selector')\n",
    "\n",
    "selector.iterables = [('subject_id', ['01'])]\n",
    "\n",
    "\n",
    "bet = pe.Node(fsl.BET(), name='better')\n",
    "\n",
    "workflow.connect(selector, 't1_weighted', bet, 'in_file')\n",
    "\n",
    "fast = pe.Node(fsl.FAST(), name='fast')\n",
    "\n",
    "binarize = pe.Node(fsl.ImageMaths(op_string='-nan -thr 0.5 -bin'),\n",
    "                   name='binarize')\n",
    "pickindex = lambda x, i: x[i]\n",
    "workflow.connect(fast, ('partial_volume_files', pickindex, 2),\n",
    "                 binarize, 'in_file')\n",
    "\n",
    "workflow.connect(bet, 'out_file', fast, 'in_files')\n",
    "\n",
    "mean2anat = pe.Node(fsl.FLIRT(), name='mean2anat')\n",
    "mean2anat.inputs.dof = 6\n",
    "workflow.connect(selector, 'whole_brain_epi', mean2anat, 'in_file')\n",
    "workflow.connect(bet, 'out_file', mean2anat, 'reference')\n",
    "\n",
    "\n",
    "mean2anatbbr = pe.Node(fsl.FLIRT(), name='mean2anatbbr')\n",
    "mean2anatbbr.inputs.dof = 6\n",
    "mean2anatbbr.inputs.cost = 'bbr'\n",
    "mean2anatbbr.inputs.schedule = os.path.join(os.getenv('FSLDIR'),\n",
    "                                            'etc/flirtsch/bbr.sch')\n",
    "workflow.connect(selector, 'whole_brain_epi', mean2anatbbr, 'in_file')\n",
    "workflow.connect(binarize, 'out_file', mean2anatbbr, 'wm_seg')\n",
    "workflow.connect(bet, 'out_file', mean2anatbbr, 'reference')\n",
    "workflow.connect(mean2anat, 'out_matrix_file',\n",
    "                 mean2anatbbr, 'in_matrix_file')\n",
    "\n",
    "\n",
    "ds = pe.Node(nio.DataSink(base_directory='/home/gdholla1/data/daphne/registration'), name='datasink')\n",
    "\n",
    "workflow.connect(mean2anatbbr, 'out_matrix_file', ds, 'whole_brain_epi2t1_weighted.@mat')\n",
    "workflow.connect(mean2anatbbr, 'out_file', ds, 'whole_brain_epi2t1_weighted')\n",
    "\n",
    "slab2wholebrain = pe.Node(fsl.FLIRT(), name='slab2wholebrain')\n",
    "workflow.connect(selector, 'slab_epi', slab2wholebrain, 'in_file')\n",
    "workflow.connect(selector, 'whole_brain_epi', slab2wholebrain, 'reference')\n",
    "\n",
    "workflow.connect(slab2wholebrain, 'out_matrix_file', ds, 'slab_epi2whole_brain_epi.@mat')\n",
    "workflow.connect(slab2wholebrain, 'out_file', ds, 'slab_epi2whole_brain_epi')\n",
    "\n",
    "concat_xfm = pe.Node(fsl.ConvertXFM(), name='concat_xfm')\n",
    "concat_xfm.inputs.concat_xfm = True\n",
    "\n",
    "workflow.connect(slab2wholebrain, 'out_matrix_file', concat_xfm, 'in_file')\n",
    "workflow.connect(mean2anatbbr, 'out_matrix_file', concat_xfm, 'in_file2')\n",
    "\n",
    "slab2t1_weighted = pe.Node(fsl.ApplyXfm(), name='slab2t1_weighted')\n",
    "workflow.connect(concat_xfm, 'out_file', slab2t1_weighted, 'in_matrix_file')\n",
    "workflow.connect(selector, 'slab_epi', slab2t1_weighted, 'in_file')\n",
    "workflow.connect(selector, 't1_weighted', slab2t1_weighted, 'reference')\n",
    "\n",
    "workflow.connect(slab2t1_weighted, 'out_file', ds, 'slab2t1_weighted')\n",
    "\n",
    "reg = pe.Node(ants.Registration(), name='registration')\n",
    "reg.inputs.transforms = ['Rigid', 'Affine']\n",
    "reg.inputs.transform_parameters = [(0.1,), (0.1,)]\n",
    "reg.inputs.number_of_iterations = [[1000,500,250,100]]*2\n",
    "reg.inputs.dimension = 3\n",
    "reg.inputs.write_composite_transform = True\n",
    "reg.inputs.collapse_output_transforms = True\n",
    "#reg.inputs.metric = ['MI']*2\n",
    "reg.inputs.metric = ['CC', 'MI']\n",
    "reg.inputs.metric_weight = [1]*2 # Default (value ignored currently by ANTs)\n",
    "reg.inputs.radius_or_number_of_bins = [32]*2\n",
    "reg.inputs.sampling_strategy = ['Regular']*2\n",
    "reg.inputs.sampling_percentage = [0.25]*2\n",
    "reg.inputs.convergence_threshold = [1.e-8]*2\n",
    "reg.inputs.convergence_window_size = [10]*2\n",
    "reg.inputs.smoothing_sigmas = [[3,2,1,0]]*2\n",
    "reg.inputs.sigma_units = ['mm']*2\n",
    "reg.inputs.shrink_factors = [[8,4,2,1]]*2\n",
    "reg.inputs.use_estimate_learning_rate_once = [True, True, True]\n",
    "reg.inputs.use_histogram_matching = [False]*2 # This is the default\n",
    "reg.inputs.initial_moving_transform_com = True\n",
    "reg.inputs.output_warped_image = True\n",
    "reg.inputs.winsorize_lower_quantile = 0.01\n",
    "reg.inputs.winsorize_upper_quantile = 0.99\n",
    "\n",
    "workflow.connect(selector, 'tse', reg, 'moving_image')\n",
    "workflow.connect(selector, 't1_weighted', reg, 'fixed_image')\n",
    "\n",
    "workflow.connect(reg, 'composite_transform', ds, 'tse2t1_weighted.@mat')\n",
    "workflow.connect(reg, 'warped_image', ds, 'tse2t1_weighted')\n",
    "\n",
    "workflow.connect(reg, 'inverse_composite_transform', ds, 't1_weighted2tse.@mat')\n",
    "workflow.connect(reg, 'inverse_warped_image', ds, 't1_weighted2tse')\n",
    "\n",
    "workflow.run()"
   ]
  },
  {
   "cell_type": "code",
   "execution_count": 31,
   "metadata": {
    "collapsed": false
   },
   "outputs": [
    {
     "name": "stdout",
     "output_type": "stream",
     "text": [
      "yesy\n"
     ]
    }
   ],
   "source": [
    "print 'yesy'"
   ]
  },
  {
   "cell_type": "code",
   "execution_count": null,
   "metadata": {
    "collapsed": false
   },
   "outputs": [],
   "source": [
    "reg.inputs"
   ]
  },
  {
   "cell_type": "code",
   "execution_count": null,
   "metadata": {
    "collapsed": true
   },
   "outputs": [],
   "source": []
  }
 ],
 "metadata": {
  "kernelspec": {
   "display_name": "Python 2",
   "language": "python",
   "name": "python2"
  },
  "language_info": {
   "codemirror_mode": {
    "name": "ipython",
    "version": 2
   },
   "file_extension": ".py",
   "mimetype": "text/x-python",
   "name": "python",
   "nbconvert_exporter": "python",
   "pygments_lexer": "ipython2",
   "version": "2.7.3"
  }
 },
 "nbformat": 4,
 "nbformat_minor": 0
}
